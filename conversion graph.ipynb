{
 "cells": [
  {
   "cell_type": "code",
   "id": "initial_id",
   "metadata": {
    "collapsed": true,
    "ExecuteTime": {
     "end_time": "2025-02-14T08:08:09.363260Z",
     "start_time": "2025-02-14T08:08:07.985075Z"
    }
   },
   "source": [
    "import os\n",
    "import logging\n",
    "\n",
    "import pandas as pd\n",
    "import torch\n",
    "import torch.nn as nn\n",
    "import torch.nn.functional as F\n",
    "import pandas as od\n",
    "import numpy as np\n",
    "import wandb\n",
    "import optuna\n",
    "from torch.utils.data import Dataset, DataLoader\n",
    "from sklearn.preprocessing import MinMaxScaler\n",
    "from sklearn.model_selection import train_test_split\n",
    "from matplotlib import pyplot as plt\n",
    "from tqdm import tqdm, trange\n",
    "\n",
    "from datasets import CubeObstacle, CylinderObstacle, BlockageDataset\n",
    "from utils.tools import calc_sig_strength_gpu, calc_loss\n",
    "from utils.config import Hyperparameters as hp"
   ],
   "outputs": [
    {
     "name": "stderr",
     "output_type": "stream",
     "text": [
      "/opt/anaconda3/envs/UAV_optim/lib/python3.10/site-packages/tqdm/auto.py:21: TqdmWarning: IProgress not found. Please update jupyter and ipywidgets. See https://ipywidgets.readthedocs.io/en/stable/user_install.html\n",
      "  from .autonotebook import tqdm as notebook_tqdm\n"
     ]
    }
   ],
   "execution_count": 1
  },
  {
   "metadata": {
    "ExecuteTime": {
     "end_time": "2025-02-14T08:08:09.931779Z",
     "start_time": "2025-02-14T08:08:09.926773Z"
    }
   },
   "cell_type": "code",
   "source": [
    "random_seed = 42\n",
    "torch.random.manual_seed(random_seed)\n",
    "np.random.seed(random_seed)\n",
    "\n",
    "batch_size = 2**10"
   ],
   "id": "fc6b1bab98c622c0",
   "outputs": [],
   "execution_count": 2
  },
  {
   "metadata": {
    "ExecuteTime": {
     "end_time": "2025-02-14T08:08:11.073456Z",
     "start_time": "2025-02-14T08:08:11.066642Z"
    }
   },
   "cell_type": "code",
   "source": [
    "class Net(nn.Module):\n",
    "    def __init__(self, num_node, hidden_N, hidden_L, output_N=3):\n",
    "        super(Net, self).__init__()\n",
    "        self.hidden_N = hidden_N\n",
    "        self.hidden_L = hidden_L\n",
    "        self.layers = nn.ModuleList()\n",
    "        self.layers.append(nn.Linear(num_node, hidden_N))\n",
    "        for _ in range(hidden_L):\n",
    "            self.layers.append(nn.Linear(hidden_N, hidden_N))\n",
    "\n",
    "        self.dropouts = nn.ModuleList()\n",
    "        for _ in range(hidden_L):\n",
    "            self.dropouts.append(nn.Dropout(0.3))\n",
    "\n",
    "        self.batches = nn.ModuleList()\n",
    "        for _ in range(hidden_L):\n",
    "            self.batches.append(nn.BatchNorm1d(hidden_N))\n",
    "\n",
    "        self.output = nn.Linear(hidden_N, output_N)\n",
    "    def forward(self, x):\n",
    "        z = x\n",
    "        for layer, dropout, batch_norm in zip(self.layers, self.dropouts, self.batches):\n",
    "            z = layer(z)\n",
    "            z = batch_norm(z)\n",
    "            z = F.leaky_relu(z, 0.05)\n",
    "            z = dropout(z)\n",
    "\n",
    "        z = torch.sigmoid(self.output(z))\n",
    "        return z"
   ],
   "id": "a8d895bb496cc7ab",
   "outputs": [],
   "execution_count": 3
  },
  {
   "metadata": {
    "ExecuteTime": {
     "end_time": "2025-02-14T08:08:11.952625Z",
     "start_time": "2025-02-14T08:08:11.947074Z"
    }
   },
   "cell_type": "code",
   "source": [
    "obstacle_ls = [\n",
    "    CubeObstacle(-30, 25, 35, 60, 20, 0.1),\n",
    "    CubeObstacle(-30, -25, 45, 10, 35, 0.1),\n",
    "    CubeObstacle(-30, -60, 35, 60, 20, 0.1),\n",
    "    CubeObstacle(-70, -20, 20, 20, 65, 0.1),\n",
    "    CubeObstacle(50, -20, 35, 25, 25, 0.1),\n",
    "    CylinderObstacle(10, -5,  70, 15, 0.1),\n",
    "    CylinderObstacle(-60, -50, 40, 20, 0.1),\n",
    "    CylinderObstacle(60, -50, 30, 10, 0.1)\n",
    "]"
   ],
   "id": "27af8c1d32f6aca7",
   "outputs": [],
   "execution_count": 4
  },
  {
   "metadata": {
    "ExecuteTime": {
     "end_time": "2025-02-14T08:08:14.700222Z",
     "start_time": "2025-02-14T08:08:12.998578Z"
    }
   },
   "cell_type": "code",
   "source": [
    "dataset = BlockageDataset(100000, obstacle_ls, 4, dtype=torch.float32).to(hp.device)\n",
    "dataset.__len__()"
   ],
   "id": "681dc336eed976cf",
   "outputs": [
    {
     "name": "stderr",
     "output_type": "stream",
     "text": [
      "100%|██████████| 100000/100000 [00:01<00:00, 59584.14it/s]\n"
     ]
    },
    {
     "data": {
      "text/plain": [
       "100000"
      ]
     },
     "execution_count": 5,
     "metadata": {},
     "output_type": "execute_result"
    }
   ],
   "execution_count": 5
  },
  {
   "metadata": {
    "ExecuteTime": {
     "end_time": "2025-02-14T08:08:15.298986Z",
     "start_time": "2025-02-14T08:08:15.288470Z"
    }
   },
   "cell_type": "code",
   "source": [
    "data = dataset.gnd_nodes.cpu().numpy()\n",
    "data = np.delete(data,2, axis=2).reshape(-1,8)\n",
    "data"
   ],
   "id": "56cab9e7ce2c7780",
   "outputs": [
    {
     "data": {
      "text/plain": [
       "array([[ 16.193718 ,  45.977825 , -17.81342  , ...,  42.224365 ,\n",
       "        -89.60678  ,  71.94956  ],\n",
       "       [ -8.349337 , -47.516785 , -51.6471   , ..., -24.330484 ,\n",
       "         49.94515  , -80.63625  ],\n",
       "       [ -4.7886596,  98.33723  ,  54.08756  , ..., -53.275047 ,\n",
       "        -18.087814 ,  56.016804 ],\n",
       "       ...,\n",
       "       [ 46.861378 ,  31.908358 ,  38.49393  , ..., -59.89102  ,\n",
       "        -40.42146  , -36.707603 ],\n",
       "       [ 48.58064  , -93.610695 ,  20.08375  , ...,  25.077305 ,\n",
       "        -95.42112  ,  77.69216  ],\n",
       "       [ -8.655481 ,   2.2979765, -89.57548  , ..., -79.84591  ,\n",
       "        -44.92314  , -80.23318  ]], dtype=float32)"
      ]
     },
     "execution_count": 6,
     "metadata": {},
     "output_type": "execute_result"
    }
   ],
   "execution_count": 6
  },
  {
   "metadata": {
    "ExecuteTime": {
     "end_time": "2025-02-14T08:08:16.467743Z",
     "start_time": "2025-02-14T08:08:16.458595Z"
    }
   },
   "cell_type": "code",
   "source": [
    "df = pd.DataFrame(data)\n",
    "df"
   ],
   "id": "2981fc57e78f1146",
   "outputs": [
    {
     "data": {
      "text/plain": [
       "               0          1          2          3          4          5  \\\n",
       "0      16.193718  45.977825 -17.813419  25.843838  39.862583  42.224365   \n",
       "1      -8.349337 -47.516785 -51.647099  -3.397177  77.366310 -24.330484   \n",
       "2      -4.788660  98.337227  54.087559 -57.894302   0.288295 -53.275047   \n",
       "3      54.244965 -54.379925  84.444664  18.513636 -24.015142   0.387116   \n",
       "4      -2.718993   0.986561 -64.717621  62.546581   8.352064 -73.784027   \n",
       "...          ...        ...        ...        ...        ...        ...   \n",
       "99995 -94.449883 -79.656647  27.009413  84.739967 -59.980907 -68.839775   \n",
       "99996  29.233435 -32.591549  72.588730   4.268974  42.914879 -63.389076   \n",
       "99997  46.861378  31.908358  38.493931  29.038160   6.288004 -59.891022   \n",
       "99998  48.580639 -93.610695  20.083750 -35.072330  37.721138  25.077305   \n",
       "99999  -8.655481   2.297976 -89.575478 -13.667264  23.340788 -79.845909   \n",
       "\n",
       "               6          7  \n",
       "0     -89.606781  71.949562  \n",
       "1      49.945148 -80.636253  \n",
       "2     -18.087814  56.016804  \n",
       "3      21.014250  11.978106  \n",
       "4      53.231419  86.488792  \n",
       "...          ...        ...  \n",
       "99995  27.179375  25.156099  \n",
       "99996 -90.642342 -11.339355  \n",
       "99997 -40.421459 -36.707603  \n",
       "99998 -95.421120  77.692162  \n",
       "99999 -44.923141 -80.233177  \n",
       "\n",
       "[100000 rows x 8 columns]"
      ],
      "text/html": [
       "<div>\n",
       "<style scoped>\n",
       "    .dataframe tbody tr th:only-of-type {\n",
       "        vertical-align: middle;\n",
       "    }\n",
       "\n",
       "    .dataframe tbody tr th {\n",
       "        vertical-align: top;\n",
       "    }\n",
       "\n",
       "    .dataframe thead th {\n",
       "        text-align: right;\n",
       "    }\n",
       "</style>\n",
       "<table border=\"1\" class=\"dataframe\">\n",
       "  <thead>\n",
       "    <tr style=\"text-align: right;\">\n",
       "      <th></th>\n",
       "      <th>0</th>\n",
       "      <th>1</th>\n",
       "      <th>2</th>\n",
       "      <th>3</th>\n",
       "      <th>4</th>\n",
       "      <th>5</th>\n",
       "      <th>6</th>\n",
       "      <th>7</th>\n",
       "    </tr>\n",
       "  </thead>\n",
       "  <tbody>\n",
       "    <tr>\n",
       "      <th>0</th>\n",
       "      <td>16.193718</td>\n",
       "      <td>45.977825</td>\n",
       "      <td>-17.813419</td>\n",
       "      <td>25.843838</td>\n",
       "      <td>39.862583</td>\n",
       "      <td>42.224365</td>\n",
       "      <td>-89.606781</td>\n",
       "      <td>71.949562</td>\n",
       "    </tr>\n",
       "    <tr>\n",
       "      <th>1</th>\n",
       "      <td>-8.349337</td>\n",
       "      <td>-47.516785</td>\n",
       "      <td>-51.647099</td>\n",
       "      <td>-3.397177</td>\n",
       "      <td>77.366310</td>\n",
       "      <td>-24.330484</td>\n",
       "      <td>49.945148</td>\n",
       "      <td>-80.636253</td>\n",
       "    </tr>\n",
       "    <tr>\n",
       "      <th>2</th>\n",
       "      <td>-4.788660</td>\n",
       "      <td>98.337227</td>\n",
       "      <td>54.087559</td>\n",
       "      <td>-57.894302</td>\n",
       "      <td>0.288295</td>\n",
       "      <td>-53.275047</td>\n",
       "      <td>-18.087814</td>\n",
       "      <td>56.016804</td>\n",
       "    </tr>\n",
       "    <tr>\n",
       "      <th>3</th>\n",
       "      <td>54.244965</td>\n",
       "      <td>-54.379925</td>\n",
       "      <td>84.444664</td>\n",
       "      <td>18.513636</td>\n",
       "      <td>-24.015142</td>\n",
       "      <td>0.387116</td>\n",
       "      <td>21.014250</td>\n",
       "      <td>11.978106</td>\n",
       "    </tr>\n",
       "    <tr>\n",
       "      <th>4</th>\n",
       "      <td>-2.718993</td>\n",
       "      <td>0.986561</td>\n",
       "      <td>-64.717621</td>\n",
       "      <td>62.546581</td>\n",
       "      <td>8.352064</td>\n",
       "      <td>-73.784027</td>\n",
       "      <td>53.231419</td>\n",
       "      <td>86.488792</td>\n",
       "    </tr>\n",
       "    <tr>\n",
       "      <th>...</th>\n",
       "      <td>...</td>\n",
       "      <td>...</td>\n",
       "      <td>...</td>\n",
       "      <td>...</td>\n",
       "      <td>...</td>\n",
       "      <td>...</td>\n",
       "      <td>...</td>\n",
       "      <td>...</td>\n",
       "    </tr>\n",
       "    <tr>\n",
       "      <th>99995</th>\n",
       "      <td>-94.449883</td>\n",
       "      <td>-79.656647</td>\n",
       "      <td>27.009413</td>\n",
       "      <td>84.739967</td>\n",
       "      <td>-59.980907</td>\n",
       "      <td>-68.839775</td>\n",
       "      <td>27.179375</td>\n",
       "      <td>25.156099</td>\n",
       "    </tr>\n",
       "    <tr>\n",
       "      <th>99996</th>\n",
       "      <td>29.233435</td>\n",
       "      <td>-32.591549</td>\n",
       "      <td>72.588730</td>\n",
       "      <td>4.268974</td>\n",
       "      <td>42.914879</td>\n",
       "      <td>-63.389076</td>\n",
       "      <td>-90.642342</td>\n",
       "      <td>-11.339355</td>\n",
       "    </tr>\n",
       "    <tr>\n",
       "      <th>99997</th>\n",
       "      <td>46.861378</td>\n",
       "      <td>31.908358</td>\n",
       "      <td>38.493931</td>\n",
       "      <td>29.038160</td>\n",
       "      <td>6.288004</td>\n",
       "      <td>-59.891022</td>\n",
       "      <td>-40.421459</td>\n",
       "      <td>-36.707603</td>\n",
       "    </tr>\n",
       "    <tr>\n",
       "      <th>99998</th>\n",
       "      <td>48.580639</td>\n",
       "      <td>-93.610695</td>\n",
       "      <td>20.083750</td>\n",
       "      <td>-35.072330</td>\n",
       "      <td>37.721138</td>\n",
       "      <td>25.077305</td>\n",
       "      <td>-95.421120</td>\n",
       "      <td>77.692162</td>\n",
       "    </tr>\n",
       "    <tr>\n",
       "      <th>99999</th>\n",
       "      <td>-8.655481</td>\n",
       "      <td>2.297976</td>\n",
       "      <td>-89.575478</td>\n",
       "      <td>-13.667264</td>\n",
       "      <td>23.340788</td>\n",
       "      <td>-79.845909</td>\n",
       "      <td>-44.923141</td>\n",
       "      <td>-80.233177</td>\n",
       "    </tr>\n",
       "  </tbody>\n",
       "</table>\n",
       "<p>100000 rows × 8 columns</p>\n",
       "</div>"
      ]
     },
     "execution_count": 7,
     "metadata": {},
     "output_type": "execute_result"
    }
   ],
   "execution_count": 7
  },
  {
   "metadata": {
    "ExecuteTime": {
     "end_time": "2025-02-14T08:08:19.239578Z",
     "start_time": "2025-02-14T08:08:18.971039Z"
    }
   },
   "cell_type": "code",
   "source": "df.to_csv(\"./data/dataset.csv\", index=False)",
   "id": "f4954d196f09a7d8",
   "outputs": [],
   "execution_count": 8
  },
  {
   "metadata": {
    "ExecuteTime": {
     "end_time": "2025-02-14T08:08:20.124267Z",
     "start_time": "2025-02-14T08:08:20.120525Z"
    }
   },
   "cell_type": "code",
   "source": [
    "class TrainDataset(Dataset):\n",
    "    def __init__(self, x, dtype=torch.float32):\n",
    "        self.x = torch.tensor(x, dtype=dtype)\n",
    "\n",
    "    def __len__(self):\n",
    "        return len(self.x)\n",
    "\n",
    "    def __getitem__(self, idx):\n",
    "        return self.x[idx]\n",
    "\n",
    "    def to(self, device: torch.device):\n",
    "        self.x = self.x.to(device)\n",
    "        return self"
   ],
   "id": "999a3300f4e87c2b",
   "outputs": [],
   "execution_count": 9
  },
  {
   "metadata": {
    "ExecuteTime": {
     "end_time": "2025-02-14T08:08:22.248116Z",
     "start_time": "2025-02-14T08:08:22.240930Z"
    }
   },
   "cell_type": "code",
   "source": [
    "obst_points = []\n",
    "for obstacle in obstacle_ls:\n",
    "    obst_points.append(torch.tensor(obstacle.points, dtype=torch.float32))\n",
    "\n",
    "obst_points = torch.cat([op for op in obst_points], dim=1).mT.to(hp.device)"
   ],
   "id": "2acbe37f7f3e7c62",
   "outputs": [],
   "execution_count": 10
  },
  {
   "metadata": {
    "ExecuteTime": {
     "end_time": "2025-02-14T09:02:50.045347Z",
     "start_time": "2025-02-14T09:02:49.985991Z"
    }
   },
   "cell_type": "code",
   "source": [
    "torch.manual_seed(random_seed)\n",
    "np.random.seed(random_seed)\n",
    "\n",
    "x = pd.read_csv('./data/dataset.csv')\n",
    "scaler_x = MinMaxScaler(feature_range=(0, 1))\n",
    "x_scaled = scaler_x.fit_transform(x)\n",
    "\n",
    "x_train, x_val = train_test_split(x_scaled, test_size=0.2, random_state=random_seed)\n",
    "\n",
    "train_dataset = TrainDataset(x_train, dtype=torch.float32).to(hp.device)\n",
    "val_dataset = TrainDataset(x_val, dtype=torch.float32).to(hp.device)\n",
    "\n",
    "train_dataloader = DataLoader(train_dataset, batch_size=batch_size, shuffle=True)\n",
    "val_dataloader = DataLoader(val_dataset, batch_size=1, shuffle=False)"
   ],
   "id": "ac32ec44405e18e8",
   "outputs": [],
   "execution_count": 26
  },
  {
   "metadata": {
    "ExecuteTime": {
     "end_time": "2025-02-14T09:07:05.419481Z",
     "start_time": "2025-02-14T09:05:23.831849Z"
    }
   },
   "cell_type": "code",
   "source": [
    "import torch\n",
    "import matplotlib.pyplot as plt\n",
    "from tqdm import trange\n",
    "import numpy as np\n",
    "\n",
    "lr_ls = [1e-1, 1e-2, 1e-3, 1e-4, 1e-5]\n",
    "results = {lr: {\"train_loss\": [], \"val_loss\": []} for lr in lr_ls}\n",
    "\n",
    "for lr in lr_ls:\n",
    "    model = Net(train_dataset.x.shape[1], 1024, 4, output_N=2).to(hp.device)\n",
    "    optimizer = torch.optim.Adam(model.parameters(), lr=lr)\n",
    "    criterion = nn.MSELoss()  # 기본 손실 함수\n",
    "\n",
    "    for epoch in trange(1000, desc=f\"Training with lr={lr}\"):\n",
    "        train_loss = 0.0\n",
    "        model.train()\n",
    "        for x in train_dataloader:\n",
    "            optimizer.zero_grad()\n",
    "            y_pred = model(x)\n",
    "\n",
    "            # x_reshaped 생성\n",
    "            x_reshaped = torch.tensor(scaler_x.inverse_transform(x.cpu()), device=hp.device, dtype=torch.float32).view(-1, 4, 2)\n",
    "            x_reshaped = torch.cat((x_reshaped, torch.zeros((x_reshaped.shape[0], x_reshaped.shape[1], 1), device=hp.device)), dim=-1)\n",
    "\n",
    "            # y_pred 수정 및 손실 계산\n",
    "            y_pred = torch.hstack((y_pred, torch.ones(y_pred.shape[0], 1, device=hp.device) * 0.7)) * 100\n",
    "            loss = calc_loss(y_pred, x_reshaped, obst_points)\n",
    "            loss.backward()\n",
    "            optimizer.step()\n",
    "            train_loss += loss.item()\n",
    "\n",
    "        # 검증 손실 계산\n",
    "        val_loss = 0.0\n",
    "        model.eval()\n",
    "        with torch.no_grad():\n",
    "            for x in val_dataloader:\n",
    "                y_pred = model(x)\n",
    "                x_reshaped = torch.tensor(scaler_x.inverse_transform(x.cpu()), device=hp.device, dtype=torch.float32).view(-1, 4, 2)\n",
    "                x_reshaped = torch.cat((x_reshaped, torch.zeros((x_reshaped.shape[0], x_reshaped.shape[1], 1), device=hp.device)), dim=-1)\n",
    "                y_pred = torch.hstack((y_pred, torch.ones(y_pred.shape[0], 1, device=hp.device) * 0.7)) * 100\n",
    "                val_loss += calc_loss(y_pred, x_reshaped, obst_points).item()\n",
    "\n",
    "        # 에폭별 평균 손실 기록\n",
    "        results[lr][\"train_loss\"].append(train_loss / len(train_dataloader))\n",
    "        results[lr][\"val_loss\"].append(val_loss / len(val_dataloader))\n",
    "\n",
    "# 시각화\n",
    "plt.figure(figsize=(12, 6))\n",
    "for lr in lr_ls:\n",
    "    plt.plot(results[lr][\"train_loss\"], label=f\"Train Loss (lr={lr})\", linestyle=\"--\")\n",
    "    plt.plot(results[lr][\"val_loss\"], label=f\"Val Loss (lr={lr})\")\n",
    "plt.xlabel(\"Epoch\")\n",
    "plt.ylabel(\"Loss\")\n",
    "plt.title(\"Train and Validation Loss for Different Learning Rates\")\n",
    "plt.legend()\n",
    "plt.grid(True)\n",
    "plt.show()\n"
   ],
   "id": "7539aecf23a832dd",
   "outputs": [
    {
     "name": "stderr",
     "output_type": "stream",
     "text": [
      "Training with lr=0.1:   0%|          | 1/1000 [01:41<28:10:18, 101.52s/it]\n"
     ]
    },
    {
     "ename": "KeyboardInterrupt",
     "evalue": "",
     "output_type": "error",
     "traceback": [
      "\u001B[0;31m---------------------------------------------------------------------------\u001B[0m",
      "\u001B[0;31mKeyboardInterrupt\u001B[0m                         Traceback (most recent call last)",
      "Cell \u001B[0;32mIn[31], line 38\u001B[0m\n\u001B[1;32m     36\u001B[0m \u001B[38;5;28;01mfor\u001B[39;00m x \u001B[38;5;129;01min\u001B[39;00m val_dataloader:\n\u001B[1;32m     37\u001B[0m     y_pred \u001B[38;5;241m=\u001B[39m model(x)\n\u001B[0;32m---> 38\u001B[0m     x_reshaped \u001B[38;5;241m=\u001B[39m torch\u001B[38;5;241m.\u001B[39mtensor(scaler_x\u001B[38;5;241m.\u001B[39minverse_transform(\u001B[43mx\u001B[49m\u001B[38;5;241;43m.\u001B[39;49m\u001B[43mcpu\u001B[49m\u001B[43m(\u001B[49m\u001B[43m)\u001B[49m), device\u001B[38;5;241m=\u001B[39mhp\u001B[38;5;241m.\u001B[39mdevice, dtype\u001B[38;5;241m=\u001B[39mtorch\u001B[38;5;241m.\u001B[39mfloat32)\u001B[38;5;241m.\u001B[39mview(\u001B[38;5;241m-\u001B[39m\u001B[38;5;241m1\u001B[39m, \u001B[38;5;241m4\u001B[39m, \u001B[38;5;241m2\u001B[39m)\n\u001B[1;32m     39\u001B[0m     x_reshaped \u001B[38;5;241m=\u001B[39m torch\u001B[38;5;241m.\u001B[39mcat((x_reshaped, torch\u001B[38;5;241m.\u001B[39mzeros((x_reshaped\u001B[38;5;241m.\u001B[39mshape[\u001B[38;5;241m0\u001B[39m], x_reshaped\u001B[38;5;241m.\u001B[39mshape[\u001B[38;5;241m1\u001B[39m], \u001B[38;5;241m1\u001B[39m), device\u001B[38;5;241m=\u001B[39mhp\u001B[38;5;241m.\u001B[39mdevice)), dim\u001B[38;5;241m=\u001B[39m\u001B[38;5;241m-\u001B[39m\u001B[38;5;241m1\u001B[39m)\n\u001B[1;32m     40\u001B[0m     y_pred \u001B[38;5;241m=\u001B[39m torch\u001B[38;5;241m.\u001B[39mhstack((y_pred, torch\u001B[38;5;241m.\u001B[39mones(y_pred\u001B[38;5;241m.\u001B[39mshape[\u001B[38;5;241m0\u001B[39m], \u001B[38;5;241m1\u001B[39m, device\u001B[38;5;241m=\u001B[39mhp\u001B[38;5;241m.\u001B[39mdevice) \u001B[38;5;241m*\u001B[39m \u001B[38;5;241m0.7\u001B[39m)) \u001B[38;5;241m*\u001B[39m \u001B[38;5;241m100\u001B[39m\n",
      "\u001B[0;31mKeyboardInterrupt\u001B[0m: "
     ]
    }
   ],
   "execution_count": 31
  },
  {
   "metadata": {},
   "cell_type": "code",
   "outputs": [],
   "execution_count": null,
   "source": "",
   "id": "dd765341c8470791"
  }
 ],
 "metadata": {
  "kernelspec": {
   "display_name": "Python 3",
   "language": "python",
   "name": "python3"
  },
  "language_info": {
   "codemirror_mode": {
    "name": "ipython",
    "version": 2
   },
   "file_extension": ".py",
   "mimetype": "text/x-python",
   "name": "python",
   "nbconvert_exporter": "python",
   "pygments_lexer": "ipython2",
   "version": "2.7.6"
  }
 },
 "nbformat": 4,
 "nbformat_minor": 5
}
