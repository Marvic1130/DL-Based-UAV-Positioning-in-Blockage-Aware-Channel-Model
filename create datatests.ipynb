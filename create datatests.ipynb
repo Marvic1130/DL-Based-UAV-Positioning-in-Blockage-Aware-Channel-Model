{
 "cells": [
  {
   "cell_type": "code",
   "id": "initial_id",
   "metadata": {
    "collapsed": true,
    "ExecuteTime": {
     "end_time": "2025-02-14T10:03:00.579681Z",
     "start_time": "2025-02-14T10:02:58.742671Z"
    }
   },
   "source": [
    "import pandas as pd\n",
    "import torch\n",
    "import torch.nn as nn\n",
    "import torch.nn.functional as F\n",
    "import numpy as np\n",
    "\n",
    "from datasets import CubeObstacle, CylinderObstacle, BlockageDataset\n",
    "from utils.config import Hyperparameters as hp"
   ],
   "outputs": [
    {
     "name": "stderr",
     "output_type": "stream",
     "text": [
      "/opt/anaconda3/envs/UAV_optim/lib/python3.10/site-packages/tqdm/auto.py:21: TqdmWarning: IProgress not found. Please update jupyter and ipywidgets. See https://ipywidgets.readthedocs.io/en/stable/user_install.html\n",
      "  from .autonotebook import tqdm as notebook_tqdm\n"
     ]
    }
   ],
   "execution_count": 1
  },
  {
   "metadata": {
    "ExecuteTime": {
     "end_time": "2025-02-14T10:03:00.587048Z",
     "start_time": "2025-02-14T10:03:00.582720Z"
    }
   },
   "cell_type": "code",
   "source": [
    "random_seed = 42\n",
    "torch.random.manual_seed(random_seed)\n",
    "np.random.seed(random_seed)\n",
    "\n",
    "batch_size = 2**10"
   ],
   "id": "fc6b1bab98c622c0",
   "outputs": [],
   "execution_count": 2
  },
  {
   "metadata": {
    "ExecuteTime": {
     "end_time": "2025-02-14T10:03:00.630177Z",
     "start_time": "2025-02-14T10:03:00.626961Z"
    }
   },
   "cell_type": "code",
   "source": [
    "class Net(nn.Module):\n",
    "    def __init__(self, num_node, hidden_N, hidden_L, output_N=3):\n",
    "        super(Net, self).__init__()\n",
    "        self.hidden_N = hidden_N\n",
    "        self.hidden_L = hidden_L\n",
    "        self.layers = nn.ModuleList()\n",
    "        self.layers.append(nn.Linear(num_node, hidden_N))\n",
    "        for _ in range(hidden_L):\n",
    "            self.layers.append(nn.Linear(hidden_N, hidden_N))\n",
    "\n",
    "        self.dropouts = nn.ModuleList()\n",
    "        for _ in range(hidden_L):\n",
    "            self.dropouts.append(nn.Dropout(0.3))\n",
    "\n",
    "        self.batches = nn.ModuleList()\n",
    "        for _ in range(hidden_L):\n",
    "            self.batches.append(nn.BatchNorm1d(hidden_N))\n",
    "\n",
    "        self.output = nn.Linear(hidden_N, output_N)\n",
    "    def forward(self, x):\n",
    "        z = x\n",
    "        for layer, dropout, batch_norm in zip(self.layers, self.dropouts, self.batches):\n",
    "            z = layer(z)\n",
    "            z = batch_norm(z)\n",
    "            z = F.leaky_relu(z, 0.05)\n",
    "            z = dropout(z)\n",
    "\n",
    "        z = torch.sigmoid(self.output(z))\n",
    "        return z"
   ],
   "id": "a8d895bb496cc7ab",
   "outputs": [],
   "execution_count": 3
  },
  {
   "metadata": {
    "ExecuteTime": {
     "end_time": "2025-02-14T10:03:00.636798Z",
     "start_time": "2025-02-14T10:03:00.634288Z"
    }
   },
   "cell_type": "code",
   "source": [
    "obstacle_ls = [\n",
    "    CubeObstacle(-30, 25, 35, 60, 20, 0.1),\n",
    "    CubeObstacle(-30, -25, 45, 10, 35, 0.1),\n",
    "    CubeObstacle(-30, -60, 35, 60, 20, 0.1),\n",
    "    CubeObstacle(50, -20, 35, 25, 25, 0.1),\n",
    "    CylinderObstacle(10, -5,  70, 15, 0.1),\n",
    "]"
   ],
   "id": "27af8c1d32f6aca7",
   "outputs": [],
   "execution_count": 4
  },
  {
   "metadata": {
    "ExecuteTime": {
     "end_time": "2025-02-14T10:03:01.939617Z",
     "start_time": "2025-02-14T10:03:00.643336Z"
    }
   },
   "cell_type": "code",
   "source": [
    "dataset = BlockageDataset(100000, obstacle_ls, 4, dtype=torch.float32).to(hp.device)\n",
    "dataset.__len__()"
   ],
   "id": "681dc336eed976cf",
   "outputs": [
    {
     "name": "stderr",
     "output_type": "stream",
     "text": [
      "100%|██████████| 100000/100000 [00:01<00:00, 78923.73it/s]\n"
     ]
    },
    {
     "data": {
      "text/plain": [
       "100000"
      ]
     },
     "execution_count": 5,
     "metadata": {},
     "output_type": "execute_result"
    }
   ],
   "execution_count": 5
  },
  {
   "metadata": {
    "ExecuteTime": {
     "end_time": "2025-02-14T10:03:02.013542Z",
     "start_time": "2025-02-14T10:03:02.007675Z"
    }
   },
   "cell_type": "code",
   "source": [
    "data = dataset.gnd_nodes.cpu().numpy()\n",
    "data = np.delete(data,2, axis=2).reshape(-1,8)\n",
    "data"
   ],
   "id": "56cab9e7ce2c7780",
   "outputs": [
    {
     "data": {
      "text/plain": [
       "array([[ 48.473988 , -54.333748 , -88.3084   , ..., -66.39599  ,\n",
       "        -29.040543 , -20.003397 ],\n",
       "       [-88.52163  ,  16.66145  ,  76.86868  , ...,  32.94784  ,\n",
       "        -16.133064 ,  40.219517 ],\n",
       "       [-17.853691 ,   0.9274576, -98.52939  , ..., -92.319824 ,\n",
       "        -26.34998  ,  95.806366 ],\n",
       "       ...,\n",
       "       [ 80.559944 , -48.176567 ,  52.49426  , ...,  67.79585  ,\n",
       "         74.88452  , -13.334251 ],\n",
       "       [ 22.601303 ,  88.610504 ,  87.54375  , ..., -92.502686 ,\n",
       "        -54.01157  ,  21.334442 ],\n",
       "       [ 12.519815 , -78.57199  , -55.36997  , ...,  74.07114  ,\n",
       "         94.96994  ,  30.149664 ]], dtype=float32)"
      ]
     },
     "execution_count": 6,
     "metadata": {},
     "output_type": "execute_result"
    }
   ],
   "execution_count": 6
  },
  {
   "metadata": {
    "ExecuteTime": {
     "end_time": "2025-02-14T10:03:02.052540Z",
     "start_time": "2025-02-14T10:03:02.045673Z"
    }
   },
   "cell_type": "code",
   "source": [
    "df = pd.DataFrame(data)\n",
    "df"
   ],
   "id": "2981fc57e78f1146",
   "outputs": [
    {
     "data": {
      "text/plain": [
       "               0          1          2          3          4          5  \\\n",
       "0      48.473988 -54.333748 -88.308403 -40.014122  -5.138267 -66.395988   \n",
       "1     -88.521629  16.661449  76.868683 -69.651421  19.561604  32.947842   \n",
       "2     -17.853691   0.927458 -98.529388  38.344025  32.268536 -92.319824   \n",
       "3     -15.852688   0.389081  81.986031  43.452374  16.414026  59.560936   \n",
       "4      -4.978327 -22.789812  93.341225  39.433250 -83.355385  72.591927   \n",
       "...          ...        ...        ...        ...        ...        ...   \n",
       "99995  11.768341  82.952278  54.814850 -22.163610 -75.248955  -9.538043   \n",
       "99996 -17.263592 -94.097000 -86.016670 -82.419418 -52.576508  47.734035   \n",
       "99997  80.559944 -48.176567  52.494259  73.261276  24.939924  67.795853   \n",
       "99998  22.601303  88.610504  87.543747  62.734123 -93.997139 -92.502686   \n",
       "99999  12.519815 -78.571991 -55.369968  39.324654  19.705816  74.071136   \n",
       "\n",
       "               6          7  \n",
       "0     -29.040543 -20.003397  \n",
       "1     -16.133064  40.219517  \n",
       "2     -26.349979  95.806366  \n",
       "3      72.873253  -8.622386  \n",
       "4      -3.888012 -86.249222  \n",
       "...          ...        ...  \n",
       "99995 -41.995087  98.432884  \n",
       "99996  45.475471 -86.085663  \n",
       "99997  74.884521 -13.334251  \n",
       "99998 -54.011570  21.334442  \n",
       "99999  94.969940  30.149664  \n",
       "\n",
       "[100000 rows x 8 columns]"
      ],
      "text/html": [
       "<div>\n",
       "<style scoped>\n",
       "    .dataframe tbody tr th:only-of-type {\n",
       "        vertical-align: middle;\n",
       "    }\n",
       "\n",
       "    .dataframe tbody tr th {\n",
       "        vertical-align: top;\n",
       "    }\n",
       "\n",
       "    .dataframe thead th {\n",
       "        text-align: right;\n",
       "    }\n",
       "</style>\n",
       "<table border=\"1\" class=\"dataframe\">\n",
       "  <thead>\n",
       "    <tr style=\"text-align: right;\">\n",
       "      <th></th>\n",
       "      <th>0</th>\n",
       "      <th>1</th>\n",
       "      <th>2</th>\n",
       "      <th>3</th>\n",
       "      <th>4</th>\n",
       "      <th>5</th>\n",
       "      <th>6</th>\n",
       "      <th>7</th>\n",
       "    </tr>\n",
       "  </thead>\n",
       "  <tbody>\n",
       "    <tr>\n",
       "      <th>0</th>\n",
       "      <td>48.473988</td>\n",
       "      <td>-54.333748</td>\n",
       "      <td>-88.308403</td>\n",
       "      <td>-40.014122</td>\n",
       "      <td>-5.138267</td>\n",
       "      <td>-66.395988</td>\n",
       "      <td>-29.040543</td>\n",
       "      <td>-20.003397</td>\n",
       "    </tr>\n",
       "    <tr>\n",
       "      <th>1</th>\n",
       "      <td>-88.521629</td>\n",
       "      <td>16.661449</td>\n",
       "      <td>76.868683</td>\n",
       "      <td>-69.651421</td>\n",
       "      <td>19.561604</td>\n",
       "      <td>32.947842</td>\n",
       "      <td>-16.133064</td>\n",
       "      <td>40.219517</td>\n",
       "    </tr>\n",
       "    <tr>\n",
       "      <th>2</th>\n",
       "      <td>-17.853691</td>\n",
       "      <td>0.927458</td>\n",
       "      <td>-98.529388</td>\n",
       "      <td>38.344025</td>\n",
       "      <td>32.268536</td>\n",
       "      <td>-92.319824</td>\n",
       "      <td>-26.349979</td>\n",
       "      <td>95.806366</td>\n",
       "    </tr>\n",
       "    <tr>\n",
       "      <th>3</th>\n",
       "      <td>-15.852688</td>\n",
       "      <td>0.389081</td>\n",
       "      <td>81.986031</td>\n",
       "      <td>43.452374</td>\n",
       "      <td>16.414026</td>\n",
       "      <td>59.560936</td>\n",
       "      <td>72.873253</td>\n",
       "      <td>-8.622386</td>\n",
       "    </tr>\n",
       "    <tr>\n",
       "      <th>4</th>\n",
       "      <td>-4.978327</td>\n",
       "      <td>-22.789812</td>\n",
       "      <td>93.341225</td>\n",
       "      <td>39.433250</td>\n",
       "      <td>-83.355385</td>\n",
       "      <td>72.591927</td>\n",
       "      <td>-3.888012</td>\n",
       "      <td>-86.249222</td>\n",
       "    </tr>\n",
       "    <tr>\n",
       "      <th>...</th>\n",
       "      <td>...</td>\n",
       "      <td>...</td>\n",
       "      <td>...</td>\n",
       "      <td>...</td>\n",
       "      <td>...</td>\n",
       "      <td>...</td>\n",
       "      <td>...</td>\n",
       "      <td>...</td>\n",
       "    </tr>\n",
       "    <tr>\n",
       "      <th>99995</th>\n",
       "      <td>11.768341</td>\n",
       "      <td>82.952278</td>\n",
       "      <td>54.814850</td>\n",
       "      <td>-22.163610</td>\n",
       "      <td>-75.248955</td>\n",
       "      <td>-9.538043</td>\n",
       "      <td>-41.995087</td>\n",
       "      <td>98.432884</td>\n",
       "    </tr>\n",
       "    <tr>\n",
       "      <th>99996</th>\n",
       "      <td>-17.263592</td>\n",
       "      <td>-94.097000</td>\n",
       "      <td>-86.016670</td>\n",
       "      <td>-82.419418</td>\n",
       "      <td>-52.576508</td>\n",
       "      <td>47.734035</td>\n",
       "      <td>45.475471</td>\n",
       "      <td>-86.085663</td>\n",
       "    </tr>\n",
       "    <tr>\n",
       "      <th>99997</th>\n",
       "      <td>80.559944</td>\n",
       "      <td>-48.176567</td>\n",
       "      <td>52.494259</td>\n",
       "      <td>73.261276</td>\n",
       "      <td>24.939924</td>\n",
       "      <td>67.795853</td>\n",
       "      <td>74.884521</td>\n",
       "      <td>-13.334251</td>\n",
       "    </tr>\n",
       "    <tr>\n",
       "      <th>99998</th>\n",
       "      <td>22.601303</td>\n",
       "      <td>88.610504</td>\n",
       "      <td>87.543747</td>\n",
       "      <td>62.734123</td>\n",
       "      <td>-93.997139</td>\n",
       "      <td>-92.502686</td>\n",
       "      <td>-54.011570</td>\n",
       "      <td>21.334442</td>\n",
       "    </tr>\n",
       "    <tr>\n",
       "      <th>99999</th>\n",
       "      <td>12.519815</td>\n",
       "      <td>-78.571991</td>\n",
       "      <td>-55.369968</td>\n",
       "      <td>39.324654</td>\n",
       "      <td>19.705816</td>\n",
       "      <td>74.071136</td>\n",
       "      <td>94.969940</td>\n",
       "      <td>30.149664</td>\n",
       "    </tr>\n",
       "  </tbody>\n",
       "</table>\n",
       "<p>100000 rows × 8 columns</p>\n",
       "</div>"
      ]
     },
     "execution_count": 7,
     "metadata": {},
     "output_type": "execute_result"
    }
   ],
   "execution_count": 7
  },
  {
   "metadata": {
    "ExecuteTime": {
     "end_time": "2025-02-14T10:03:04.304938Z",
     "start_time": "2025-02-14T10:03:04.028293Z"
    }
   },
   "cell_type": "code",
   "source": "df.to_csv(\"./data/dataset.csv\", index=False)",
   "id": "f4954d196f09a7d8",
   "outputs": [],
   "execution_count": 8
  },
  {
   "metadata": {},
   "cell_type": "code",
   "outputs": [],
   "execution_count": null,
   "source": "",
   "id": "d2af7b0931d06610"
  }
 ],
 "metadata": {
  "kernelspec": {
   "display_name": "Python 3",
   "language": "python",
   "name": "python3"
  },
  "language_info": {
   "codemirror_mode": {
    "name": "ipython",
    "version": 2
   },
   "file_extension": ".py",
   "mimetype": "text/x-python",
   "name": "python",
   "nbconvert_exporter": "python",
   "pygments_lexer": "ipython2",
   "version": "2.7.6"
  }
 },
 "nbformat": 4,
 "nbformat_minor": 5
}
