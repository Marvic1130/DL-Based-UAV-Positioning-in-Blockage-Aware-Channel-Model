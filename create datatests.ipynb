{
 "cells": [
  {
   "cell_type": "code",
   "id": "initial_id",
   "metadata": {
    "collapsed": true,
    "ExecuteTime": {
     "end_time": "2025-02-23T08:30:44.683011Z",
     "start_time": "2025-02-23T08:30:43.188954Z"
    }
   },
   "source": [
    "import pandas as pd\n",
    "import torch\n",
    "import torch.nn as nn\n",
    "import torch.nn.functional as F\n",
    "import numpy as np\n",
    "\n",
    "from datasets import CubeObstacle, CylinderObstacle, BlockageDataset\n",
    "from utils.config import Hyperparameters as hp"
   ],
   "outputs": [],
   "execution_count": 1
  },
  {
   "metadata": {
    "ExecuteTime": {
     "end_time": "2025-02-23T08:30:44.689532Z",
     "start_time": "2025-02-23T08:30:44.686192Z"
    }
   },
   "cell_type": "code",
   "source": [
    "random_seed = 42\n",
    "torch.random.manual_seed(random_seed)\n",
    "np.random.seed(random_seed)\n",
    "\n",
    "batch_size = 2**10"
   ],
   "id": "fc6b1bab98c622c0",
   "outputs": [],
   "execution_count": 2
  },
  {
   "metadata": {
    "ExecuteTime": {
     "end_time": "2025-02-23T08:30:44.744181Z",
     "start_time": "2025-02-23T08:30:44.740949Z"
    }
   },
   "cell_type": "code",
   "source": [
    "class Net(nn.Module):\n",
    "    def __init__(self, num_node, hidden_N, hidden_L, output_N=3):\n",
    "        super(Net, self).__init__()\n",
    "        self.hidden_N = hidden_N\n",
    "        self.hidden_L = hidden_L\n",
    "        self.layers = nn.ModuleList()\n",
    "        self.layers.append(nn.Linear(num_node, hidden_N))\n",
    "        for _ in range(hidden_L):\n",
    "            self.layers.append(nn.Linear(hidden_N, hidden_N))\n",
    "\n",
    "        self.dropouts = nn.ModuleList()\n",
    "        for _ in range(hidden_L):\n",
    "            self.dropouts.append(nn.Dropout(0.3))\n",
    "\n",
    "        self.batches = nn.ModuleList()\n",
    "        for _ in range(hidden_L):\n",
    "            self.batches.append(nn.BatchNorm1d(hidden_N))\n",
    "\n",
    "        self.output = nn.Linear(hidden_N, output_N)\n",
    "    def forward(self, x):\n",
    "        z = x\n",
    "        for layer, dropout, batch_norm in zip(self.layers, self.dropouts, self.batches):\n",
    "            z = layer(z)\n",
    "            z = batch_norm(z)\n",
    "            z = F.leaky_relu(z, 0.05)\n",
    "            z = dropout(z)\n",
    "\n",
    "        z = torch.sigmoid(self.output(z))\n",
    "        return z"
   ],
   "id": "a8d895bb496cc7ab",
   "outputs": [],
   "execution_count": 3
  },
  {
   "metadata": {
    "ExecuteTime": {
     "end_time": "2025-02-23T08:30:46.137407Z",
     "start_time": "2025-02-23T08:30:46.133087Z"
    }
   },
   "cell_type": "code",
   "source": [
    "obstacle_ls = [\n",
    "    CubeObstacle(-30, 25, 35, 60, 20, 0.1),\n",
    "    CubeObstacle(-30, -25, 45, 10, 35, 0.1),\n",
    "    CubeObstacle(-30, -60, 35, 60, 20, 0.1),\n",
    "    CubeObstacle(50, -20, 35, 25, 25, 0.1),\n",
    "    CylinderObstacle(10, -5,  70, 15, 0.1),\n",
    "]"
   ],
   "id": "27af8c1d32f6aca7",
   "outputs": [],
   "execution_count": 4
  },
  {
   "metadata": {
    "ExecuteTime": {
     "end_time": "2025-02-23T08:30:48.613030Z",
     "start_time": "2025-02-23T08:30:47.282517Z"
    }
   },
   "cell_type": "code",
   "source": [
    "dataset = BlockageDataset(100000, obstacle_ls, 4, dtype=torch.float32).to(hp.device)\n",
    "dataset.__len__()"
   ],
   "id": "681dc336eed976cf",
   "outputs": [
    {
     "name": "stderr",
     "output_type": "stream",
     "text": [
      "100%|██████████| 100000/100000 [00:01<00:00, 78094.92it/s]\n"
     ]
    },
    {
     "data": {
      "text/plain": [
       "100000"
      ]
     },
     "execution_count": 5,
     "metadata": {},
     "output_type": "execute_result"
    }
   ],
   "execution_count": 5
  },
  {
   "metadata": {
    "ExecuteTime": {
     "end_time": "2025-02-23T08:30:49.220144Z",
     "start_time": "2025-02-23T08:30:49.211917Z"
    }
   },
   "cell_type": "code",
   "source": [
    "data = dataset.gnd_nodes.cpu().numpy()\n",
    "data = np.delete(data,2, axis=2).reshape(-1,8)\n",
    "data"
   ],
   "id": "56cab9e7ce2c7780",
   "outputs": [
    {
     "data": {
      "text/plain": [
       "array([[ 48.473988, -54.333748, -88.3084  , ..., -66.39599 , -88.52163 ,\n",
       "         16.66145 ],\n",
       "       [ 76.86868 , -69.65142 , -17.853691, ...,  38.344025,  32.268536,\n",
       "        -92.319824],\n",
       "       [-26.34998 ,  95.806366, -15.852688, ...,  43.452374,  16.414026,\n",
       "         59.560936],\n",
       "       ...,\n",
       "       [ 37.135468,  16.901632,  -9.638972, ...,  44.28218 , -84.911   ,\n",
       "         21.507885],\n",
       "       [ 71.97478 , -88.20765 , -63.707054, ..., -63.35672 , -69.68139 ,\n",
       "         51.659626],\n",
       "       [ 50.732513, -89.22347 , -46.146835, ..., -20.157822, -80.070595,\n",
       "        -85.88436 ]], dtype=float32)"
      ]
     },
     "execution_count": 6,
     "metadata": {},
     "output_type": "execute_result"
    }
   ],
   "execution_count": 6
  },
  {
   "metadata": {
    "ExecuteTime": {
     "end_time": "2025-02-23T08:30:50.435850Z",
     "start_time": "2025-02-23T08:30:50.427617Z"
    }
   },
   "cell_type": "code",
   "source": [
    "df = pd.DataFrame(data)\n",
    "df"
   ],
   "id": "2981fc57e78f1146",
   "outputs": [
    {
     "data": {
      "text/plain": [
       "               0          1          2          3          4          5  \\\n",
       "0      48.473988 -54.333748 -88.308403 -40.014122  -5.138267 -66.395988   \n",
       "1      76.868683 -69.651421 -17.853691   0.927458 -98.529388  38.344025   \n",
       "2     -26.349979  95.806366 -15.852688   0.389081  81.986031  43.452374   \n",
       "3      -4.978327 -22.789812  93.341225  39.433250 -83.355385  72.591927   \n",
       "4      75.549881 -59.201080  65.292923  11.537738 -89.077942  94.369057   \n",
       "...          ...        ...        ...        ...        ...        ...   \n",
       "99995  52.765034 -74.727470 -38.952068 -71.071815 -14.429907  72.474571   \n",
       "99996  34.372471 -14.616413 -48.689114  60.765034 -73.032761 -78.029633   \n",
       "99997  37.135468  16.901632  -9.638972  45.678440 -36.138901  44.282181   \n",
       "99998  71.974777 -88.207649 -63.707054   8.195306 -26.512190 -63.356720   \n",
       "99999  50.732513 -89.223473 -46.146835 -95.291435 -84.155235 -20.157822   \n",
       "\n",
       "               6          7  \n",
       "0     -88.521629  16.661449  \n",
       "1      32.268536 -92.319824  \n",
       "2      16.414026  59.560936  \n",
       "3      -3.888012 -86.249222  \n",
       "4      -6.118632  71.571556  \n",
       "...          ...        ...  \n",
       "99995 -40.082649 -29.646507  \n",
       "99996   9.310032 -95.530640  \n",
       "99997 -84.911003  21.507885  \n",
       "99998 -69.681389  51.659626  \n",
       "99999 -80.070595 -85.884361  \n",
       "\n",
       "[100000 rows x 8 columns]"
      ],
      "text/html": [
       "<div>\n",
       "<style scoped>\n",
       "    .dataframe tbody tr th:only-of-type {\n",
       "        vertical-align: middle;\n",
       "    }\n",
       "\n",
       "    .dataframe tbody tr th {\n",
       "        vertical-align: top;\n",
       "    }\n",
       "\n",
       "    .dataframe thead th {\n",
       "        text-align: right;\n",
       "    }\n",
       "</style>\n",
       "<table border=\"1\" class=\"dataframe\">\n",
       "  <thead>\n",
       "    <tr style=\"text-align: right;\">\n",
       "      <th></th>\n",
       "      <th>0</th>\n",
       "      <th>1</th>\n",
       "      <th>2</th>\n",
       "      <th>3</th>\n",
       "      <th>4</th>\n",
       "      <th>5</th>\n",
       "      <th>6</th>\n",
       "      <th>7</th>\n",
       "    </tr>\n",
       "  </thead>\n",
       "  <tbody>\n",
       "    <tr>\n",
       "      <th>0</th>\n",
       "      <td>48.473988</td>\n",
       "      <td>-54.333748</td>\n",
       "      <td>-88.308403</td>\n",
       "      <td>-40.014122</td>\n",
       "      <td>-5.138267</td>\n",
       "      <td>-66.395988</td>\n",
       "      <td>-88.521629</td>\n",
       "      <td>16.661449</td>\n",
       "    </tr>\n",
       "    <tr>\n",
       "      <th>1</th>\n",
       "      <td>76.868683</td>\n",
       "      <td>-69.651421</td>\n",
       "      <td>-17.853691</td>\n",
       "      <td>0.927458</td>\n",
       "      <td>-98.529388</td>\n",
       "      <td>38.344025</td>\n",
       "      <td>32.268536</td>\n",
       "      <td>-92.319824</td>\n",
       "    </tr>\n",
       "    <tr>\n",
       "      <th>2</th>\n",
       "      <td>-26.349979</td>\n",
       "      <td>95.806366</td>\n",
       "      <td>-15.852688</td>\n",
       "      <td>0.389081</td>\n",
       "      <td>81.986031</td>\n",
       "      <td>43.452374</td>\n",
       "      <td>16.414026</td>\n",
       "      <td>59.560936</td>\n",
       "    </tr>\n",
       "    <tr>\n",
       "      <th>3</th>\n",
       "      <td>-4.978327</td>\n",
       "      <td>-22.789812</td>\n",
       "      <td>93.341225</td>\n",
       "      <td>39.433250</td>\n",
       "      <td>-83.355385</td>\n",
       "      <td>72.591927</td>\n",
       "      <td>-3.888012</td>\n",
       "      <td>-86.249222</td>\n",
       "    </tr>\n",
       "    <tr>\n",
       "      <th>4</th>\n",
       "      <td>75.549881</td>\n",
       "      <td>-59.201080</td>\n",
       "      <td>65.292923</td>\n",
       "      <td>11.537738</td>\n",
       "      <td>-89.077942</td>\n",
       "      <td>94.369057</td>\n",
       "      <td>-6.118632</td>\n",
       "      <td>71.571556</td>\n",
       "    </tr>\n",
       "    <tr>\n",
       "      <th>...</th>\n",
       "      <td>...</td>\n",
       "      <td>...</td>\n",
       "      <td>...</td>\n",
       "      <td>...</td>\n",
       "      <td>...</td>\n",
       "      <td>...</td>\n",
       "      <td>...</td>\n",
       "      <td>...</td>\n",
       "    </tr>\n",
       "    <tr>\n",
       "      <th>99995</th>\n",
       "      <td>52.765034</td>\n",
       "      <td>-74.727470</td>\n",
       "      <td>-38.952068</td>\n",
       "      <td>-71.071815</td>\n",
       "      <td>-14.429907</td>\n",
       "      <td>72.474571</td>\n",
       "      <td>-40.082649</td>\n",
       "      <td>-29.646507</td>\n",
       "    </tr>\n",
       "    <tr>\n",
       "      <th>99996</th>\n",
       "      <td>34.372471</td>\n",
       "      <td>-14.616413</td>\n",
       "      <td>-48.689114</td>\n",
       "      <td>60.765034</td>\n",
       "      <td>-73.032761</td>\n",
       "      <td>-78.029633</td>\n",
       "      <td>9.310032</td>\n",
       "      <td>-95.530640</td>\n",
       "    </tr>\n",
       "    <tr>\n",
       "      <th>99997</th>\n",
       "      <td>37.135468</td>\n",
       "      <td>16.901632</td>\n",
       "      <td>-9.638972</td>\n",
       "      <td>45.678440</td>\n",
       "      <td>-36.138901</td>\n",
       "      <td>44.282181</td>\n",
       "      <td>-84.911003</td>\n",
       "      <td>21.507885</td>\n",
       "    </tr>\n",
       "    <tr>\n",
       "      <th>99998</th>\n",
       "      <td>71.974777</td>\n",
       "      <td>-88.207649</td>\n",
       "      <td>-63.707054</td>\n",
       "      <td>8.195306</td>\n",
       "      <td>-26.512190</td>\n",
       "      <td>-63.356720</td>\n",
       "      <td>-69.681389</td>\n",
       "      <td>51.659626</td>\n",
       "    </tr>\n",
       "    <tr>\n",
       "      <th>99999</th>\n",
       "      <td>50.732513</td>\n",
       "      <td>-89.223473</td>\n",
       "      <td>-46.146835</td>\n",
       "      <td>-95.291435</td>\n",
       "      <td>-84.155235</td>\n",
       "      <td>-20.157822</td>\n",
       "      <td>-80.070595</td>\n",
       "      <td>-85.884361</td>\n",
       "    </tr>\n",
       "  </tbody>\n",
       "</table>\n",
       "<p>100000 rows × 8 columns</p>\n",
       "</div>"
      ]
     },
     "execution_count": 7,
     "metadata": {},
     "output_type": "execute_result"
    }
   ],
   "execution_count": 7
  },
  {
   "metadata": {
    "ExecuteTime": {
     "end_time": "2025-02-23T08:30:51.842140Z",
     "start_time": "2025-02-23T08:30:51.579479Z"
    }
   },
   "cell_type": "code",
   "source": "df.to_csv(\"./data/dataset.csv\", index=False)",
   "id": "f4954d196f09a7d8",
   "outputs": [],
   "execution_count": 8
  },
  {
   "metadata": {},
   "cell_type": "code",
   "outputs": [],
   "execution_count": null,
   "source": "",
   "id": "d2af7b0931d06610"
  }
 ],
 "metadata": {
  "kernelspec": {
   "display_name": "Python 3",
   "language": "python",
   "name": "python3"
  },
  "language_info": {
   "codemirror_mode": {
    "name": "ipython",
    "version": 2
   },
   "file_extension": ".py",
   "mimetype": "text/x-python",
   "name": "python",
   "nbconvert_exporter": "python",
   "pygments_lexer": "ipython2",
   "version": "2.7.6"
  }
 },
 "nbformat": 4,
 "nbformat_minor": 5
}
