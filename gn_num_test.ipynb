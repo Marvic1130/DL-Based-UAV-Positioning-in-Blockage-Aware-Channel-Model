{
 "cells": [
  {
   "cell_type": "markdown",
   "id": "e6aef8d83861e35a",
   "metadata": {},
   "source": [
    "# Gn_num_test\n",
    "\n",
    "지상 단말 개수에 따른 학습 시간(it/s), SE 변화 측정"
   ]
  },
  {
   "cell_type": "code",
   "execution_count": 1,
   "id": "initial_id",
   "metadata": {
    "ExecuteTime": {
     "end_time": "2025-02-17T14:07:06.945774Z",
     "start_time": "2025-02-17T14:07:05.162355Z"
    },
    "collapsed": true
   },
   "outputs": [],
   "source": [
    "from time import time\n",
    "import numpy as np\n",
    "import pandas as pd\n",
    "from matplotlib import pyplot as plt\n",
    "import torch\n",
    "from torch.utils.data import DataLoader\n",
    "from sklearn.preprocessing import MinMaxScaler\n",
    "from sklearn.model_selection import train_test_split\n",
    "from tqdm import trange\n",
    "import wandb\n",
    "\n",
    "from datasets import CubeObstacle, CylinderObstacle, BlockageDataset\n",
    "from utils.config import Hyperparameters as hp\n",
    "from datasets import TrainDataset\n",
    "from model import Net\n",
    "from utils.tools import calc_loss"
   ]
  },
  {
   "cell_type": "code",
   "execution_count": 2,
   "id": "c37e0666bf850da8",
   "metadata": {
    "ExecuteTime": {
     "end_time": "2025-02-17T14:07:06.956859Z",
     "start_time": "2025-02-17T14:07:06.948430Z"
    }
   },
   "outputs": [],
   "source": [
    "# Create datasets\n",
    "\n",
    "batch_size = 2**10\n",
    "random_seed = 42\n",
    "\n",
    "obstacle_ls = [\n",
    "    CubeObstacle(-30, 25, 35, 60, 20, 0.1),\n",
    "    CubeObstacle(-30, -25, 45, 10, 35, 0.1),\n",
    "    CubeObstacle(-30, -60, 35, 60, 20, 0.1),\n",
    "    CubeObstacle(50, -20, 35, 25, 25, 0.1),\n",
    "    CylinderObstacle(10, -5,  70, 15, 0.1),\n",
    "]\n",
    "\n",
    "obst_points = []\n",
    "for obstacle in obstacle_ls:\n",
    "    obst_points.append(torch.tensor(obstacle.points, dtype=torch.float32))\n",
    "\n",
    "obst_points = torch.cat([op for op in obst_points], dim=1).mT.to(hp.device)"
   ]
  },
  {
   "cell_type": "code",
   "execution_count": 3,
   "id": "8e43f6bbaee1a348",
   "metadata": {
    "ExecuteTime": {
     "end_time": "2025-02-17T14:07:13.846375Z",
     "start_time": "2025-02-17T14:07:07.082418Z"
    }
   },
   "outputs": [
    {
     "name": "stderr",
     "output_type": "stream",
     "text": [
      "100%|██████████| 110000/110000 [00:00<00:00, 133327.58it/s]\n",
      "100%|██████████| 110000/110000 [00:01<00:00, 109606.47it/s]\n",
      "100%|██████████| 110000/110000 [00:01<00:00, 91254.01it/s]\n",
      "100%|██████████| 110000/110000 [00:01<00:00, 79531.97it/s]\n",
      "100%|██████████| 110000/110000 [00:01<00:00, 70442.29it/s]\n"
     ]
    }
   ],
   "source": [
    "gn_datasets = []\n",
    "for i in range(2,7):\n",
    "    np.random.seed(random_seed)\n",
    "    torch.manual_seed(random_seed)\n",
    "    gn_datasets.append(BlockageDataset(110000, obstacle_ls, i, dtype=torch.float32).to(hp.device))"
   ]
  },
  {
   "cell_type": "code",
   "execution_count": 4,
   "id": "7de1618cc4698237",
   "metadata": {
    "ExecuteTime": {
     "end_time": "2025-02-17T14:07:13.867998Z",
     "start_time": "2025-02-17T14:07:13.866059Z"
    }
   },
   "outputs": [
    {
     "name": "stdout",
     "output_type": "stream",
     "text": [
      "torch.Size([110000, 2, 3])\n",
      "torch.Size([110000, 3, 3])\n",
      "torch.Size([110000, 4, 3])\n",
      "torch.Size([110000, 5, 3])\n",
      "torch.Size([110000, 6, 3])\n"
     ]
    }
   ],
   "source": [
    "for dataset in gn_datasets:\n",
    "    print(dataset.gnd_nodes.shape)"
   ]
  },
  {
   "cell_type": "code",
   "execution_count": 5,
   "id": "e48996ab3352b680",
   "metadata": {
    "ExecuteTime": {
     "end_time": "2025-02-17T14:07:14.019921Z",
     "start_time": "2025-02-17T14:07:13.881055Z"
    }
   },
   "outputs": [],
   "source": [
    "# data preprocessing\n",
    "test_sets = {}\n",
    "\n",
    "for idx, dataset in enumerate(gn_datasets):\n",
    "    data = dataset.gnd_nodes.cpu().numpy()\n",
    "    data = np.delete(data, 2, axis=2)\n",
    "    data = data.reshape(-1, data.shape[1] * data.shape[2])\n",
    "\n",
    "    scaler = MinMaxScaler(feature_range=(0, 1))\n",
    "    data_scaled = scaler.fit_transform(data)\n",
    "    test_data = data_scaled[100000:]\n",
    "    train_data, val_data = train_test_split(data_scaled[:100000], test_size=0.2, random_state=random_seed)\n",
    "\n",
    "    model = Net(data.shape[1], 1024, 4, output_N=2).to(hp.device)\n",
    "    train_dataset = TrainDataset(train_data, dtype=torch.float32).to(hp.device)\n",
    "    val_dataset = TrainDataset(val_data, dtype=torch.float32).to(hp.device)\n",
    "    test_dataset = TrainDataset(test_data, dtype=torch.float32).to(hp.device)\n",
    "\n",
    "    test_sets[idx] = {\n",
    "        \"gn_num\": dataset.gnd_nodes.shape[1],\n",
    "        \"train_dataset\": train_dataset,\n",
    "        \"val_dataset\": val_dataset,\n",
    "        \"test_dataset\": test_dataset,\n",
    "        \"scaler\": scaler,\n",
    "        \"model\": model,\n",
    "        \"result\": {\"train_loss\": [], \"val_loss\": []}\n",
    "    }\n"
   ]
  },
  {
   "cell_type": "code",
   "execution_count": 6,
   "id": "3870a42335e908d6",
   "metadata": {
    "ExecuteTime": {
     "end_time": "2025-02-17T14:09:43.019833Z",
     "start_time": "2025-02-17T14:07:14.035218Z"
    }
   },
   "outputs": [
    {
     "name": "stderr",
     "output_type": "stream",
     "text": [
      "\u001b[34m\u001b[1mwandb\u001b[0m: Using wandb-core as the SDK backend. Please refer to https://wandb.me/wandb-core for more information.\n",
      "\u001b[34m\u001b[1mwandb\u001b[0m: Currently logged in as: \u001b[33mmarvic1130\u001b[0m. Use \u001b[1m`wandb login --relogin`\u001b[0m to force relogin\n"
     ]
    },
    {
     "data": {
      "text/html": [
       "Tracking run with wandb version 0.18.5"
      ],
      "text/plain": [
       "<IPython.core.display.HTML object>"
      ]
     },
     "metadata": {},
     "output_type": "display_data"
    },
    {
     "data": {
      "text/html": [
       "Run data is saved locally in <code>/home/yskang/Projects/DL-Based-UAV-Positioning-in-Blockage-Aware-Channel-Model/wandb/run-20250217_231846-hvm8hyf5</code>"
      ],
      "text/plain": [
       "<IPython.core.display.HTML object>"
      ]
     },
     "metadata": {},
     "output_type": "display_data"
    },
    {
     "data": {
      "text/html": [
       "Syncing run <strong><a href='https://wandb.ai/marvic1130/DL-based%20UAV%20Positioning/runs/hvm8hyf5' target=\"_blank\">gnd_test: 2</a></strong> to <a href='https://wandb.ai/marvic1130/DL-based%20UAV%20Positioning' target=\"_blank\">Weights & Biases</a> (<a href='https://wandb.me/run' target=\"_blank\">docs</a>)<br/>"
      ],
      "text/plain": [
       "<IPython.core.display.HTML object>"
      ]
     },
     "metadata": {},
     "output_type": "display_data"
    },
    {
     "data": {
      "text/html": [
       " View project at <a href='https://wandb.ai/marvic1130/DL-based%20UAV%20Positioning' target=\"_blank\">https://wandb.ai/marvic1130/DL-based%20UAV%20Positioning</a>"
      ],
      "text/plain": [
       "<IPython.core.display.HTML object>"
      ]
     },
     "metadata": {},
     "output_type": "display_data"
    },
    {
     "data": {
      "text/html": [
       " View run at <a href='https://wandb.ai/marvic1130/DL-based%20UAV%20Positioning/runs/hvm8hyf5' target=\"_blank\">https://wandb.ai/marvic1130/DL-based%20UAV%20Positioning/runs/hvm8hyf5</a>"
      ],
      "text/plain": [
       "<IPython.core.display.HTML object>"
      ]
     },
     "metadata": {},
     "output_type": "display_data"
    },
    {
     "name": "stderr",
     "output_type": "stream",
     "text": [
      "Training with gn_num=2: 100%|██████████| 1000/1000 [08:20<00:00,  2.00it/s]\n"
     ]
    },
    {
     "data": {
      "text/html": [
       "<style>\n",
       "    table.wandb td:nth-child(1) { padding: 0 10px; text-align: left ; width: auto;} td:nth-child(2) {text-align: left ; width: 100%}\n",
       "    .wandb-row { display: flex; flex-direction: row; flex-wrap: wrap; justify-content: flex-start; width: 100% }\n",
       "    .wandb-col { display: flex; flex-direction: column; flex-basis: 100%; flex: 1; padding: 10px; }\n",
       "    </style>\n",
       "<div class=\"wandb-row\"><div class=\"wandb-col\"><h3>Run history:</h3><br/><table class=\"wandb\"><tr><td>epoch</td><td>▁▁▁▂▂▂▂▂▂▂▃▃▃▃▃▄▄▄▄▅▅▅▅▅▆▆▆▆▆▆▇▇▇▇▇█████</td></tr><tr><td>test SE avg</td><td>▁</td></tr><tr><td>time</td><td>▆▁█▄▂▂▂▂▁▁▃▃▁▂▂▃▃▂▃▁▄▃▃▂▂▂▃▂▂▁▁▂▃▃▃▂▁▂▁▂</td></tr><tr><td>train_loss</td><td>▇▆▆▆█▅▅▄▄▄▄▄▄▄▄▃▃▃▃▃▃▃▃▂▂▂▂▂▂▁▁▁▂▁▁▁▁▁▂▁</td></tr><tr><td>val_loss</td><td>▇█▆▅▅▄▄▄▄▄▃▃▃▃▃▃▃▂▂▂▂▂▂▂▂▂▂▂▂▁▁▁▂▁▁▂▁▁▁▁</td></tr></table><br/></div><div class=\"wandb-col\"><h3>Run summary:</h3><br/><table class=\"wandb\"><tr><td>epoch</td><td>1000</td></tr><tr><td>test SE avg</td><td>12.39027</td></tr><tr><td>time</td><td>0.43371</td></tr><tr><td>train_loss</td><td>-12.36136</td></tr><tr><td>val_loss</td><td>-12.37478</td></tr></table><br/></div></div>"
      ],
      "text/plain": [
       "<IPython.core.display.HTML object>"
      ]
     },
     "metadata": {},
     "output_type": "display_data"
    },
    {
     "data": {
      "text/html": [
       " View run <strong style=\"color:#cdcd00\">gnd_test: 2</strong> at: <a href='https://wandb.ai/marvic1130/DL-based%20UAV%20Positioning/runs/hvm8hyf5' target=\"_blank\">https://wandb.ai/marvic1130/DL-based%20UAV%20Positioning/runs/hvm8hyf5</a><br/> View project at: <a href='https://wandb.ai/marvic1130/DL-based%20UAV%20Positioning' target=\"_blank\">https://wandb.ai/marvic1130/DL-based%20UAV%20Positioning</a><br/>Synced 4 W&B file(s), 0 media file(s), 3 artifact file(s) and 0 other file(s)"
      ],
      "text/plain": [
       "<IPython.core.display.HTML object>"
      ]
     },
     "metadata": {},
     "output_type": "display_data"
    },
    {
     "data": {
      "text/html": [
       "Find logs at: <code>./wandb/run-20250217_231846-hvm8hyf5/logs</code>"
      ],
      "text/plain": [
       "<IPython.core.display.HTML object>"
      ]
     },
     "metadata": {},
     "output_type": "display_data"
    },
    {
     "data": {
      "text/html": [
       "Tracking run with wandb version 0.18.5"
      ],
      "text/plain": [
       "<IPython.core.display.HTML object>"
      ]
     },
     "metadata": {},
     "output_type": "display_data"
    },
    {
     "data": {
      "text/html": [
       "Run data is saved locally in <code>/home/yskang/Projects/DL-Based-UAV-Positioning-in-Blockage-Aware-Channel-Model/wandb/run-20250217_232712-ctof9mnh</code>"
      ],
      "text/plain": [
       "<IPython.core.display.HTML object>"
      ]
     },
     "metadata": {},
     "output_type": "display_data"
    },
    {
     "data": {
      "text/html": [
       "Syncing run <strong><a href='https://wandb.ai/marvic1130/DL-based%20UAV%20Positioning/runs/ctof9mnh' target=\"_blank\">gnd_test: 3</a></strong> to <a href='https://wandb.ai/marvic1130/DL-based%20UAV%20Positioning' target=\"_blank\">Weights & Biases</a> (<a href='https://wandb.me/run' target=\"_blank\">docs</a>)<br/>"
      ],
      "text/plain": [
       "<IPython.core.display.HTML object>"
      ]
     },
     "metadata": {},
     "output_type": "display_data"
    },
    {
     "data": {
      "text/html": [
       " View project at <a href='https://wandb.ai/marvic1130/DL-based%20UAV%20Positioning' target=\"_blank\">https://wandb.ai/marvic1130/DL-based%20UAV%20Positioning</a>"
      ],
      "text/plain": [
       "<IPython.core.display.HTML object>"
      ]
     },
     "metadata": {},
     "output_type": "display_data"
    },
    {
     "data": {
      "text/html": [
       " View run at <a href='https://wandb.ai/marvic1130/DL-based%20UAV%20Positioning/runs/ctof9mnh' target=\"_blank\">https://wandb.ai/marvic1130/DL-based%20UAV%20Positioning/runs/ctof9mnh</a>"
      ],
      "text/plain": [
       "<IPython.core.display.HTML object>"
      ]
     },
     "metadata": {},
     "output_type": "display_data"
    },
    {
     "name": "stderr",
     "output_type": "stream",
     "text": [
      "Training with gn_num=3: 100%|██████████| 1000/1000 [10:49<00:00,  1.54it/s]\n"
     ]
    },
    {
     "data": {
      "text/html": [
       "<style>\n",
       "    table.wandb td:nth-child(1) { padding: 0 10px; text-align: left ; width: auto;} td:nth-child(2) {text-align: left ; width: 100%}\n",
       "    .wandb-row { display: flex; flex-direction: row; flex-wrap: wrap; justify-content: flex-start; width: 100% }\n",
       "    .wandb-col { display: flex; flex-direction: column; flex-basis: 100%; flex: 1; padding: 10px; }\n",
       "    </style>\n",
       "<div class=\"wandb-row\"><div class=\"wandb-col\"><h3>Run history:</h3><br/><table class=\"wandb\"><tr><td>epoch</td><td>▁▁▁▁▂▂▃▃▃▃▃▃▃▃▃▄▄▄▄▄▄▄▄▅▅▅▅▅▆▆▆▆▇▇▇█████</td></tr><tr><td>test SE avg</td><td>▁</td></tr><tr><td>time</td><td>▄▄▆▂▅▃▆▇▅▅▇▁▅▄▅▇▅▇▃▂▅▆▇▅▆▃▄█▃▃▃█▆█▆▅▅█▁▂</td></tr><tr><td>train_loss</td><td>█▄▅▄▅▃▃▃▄▃▃▃▃▃▂▃▃▃▃▂▂▂▂▂▂▂▂▂▂▂▂▂▂▂▂▁▁▁▁▁</td></tr><tr><td>val_loss</td><td>█▄▃▃▃▃▂▃▃▃▃▃▂▂▃▂▂▂▂▂▂▂▂▂▂▂▂▂▂▂▂▁▁▁▂▂▁▁▁▁</td></tr></table><br/></div><div class=\"wandb-col\"><h3>Run summary:</h3><br/><table class=\"wandb\"><tr><td>epoch</td><td>1000</td></tr><tr><td>test SE avg</td><td>12.16282</td></tr><tr><td>time</td><td>0.58567</td></tr><tr><td>train_loss</td><td>-12.15517</td></tr><tr><td>val_loss</td><td>-12.17135</td></tr></table><br/></div></div>"
      ],
      "text/plain": [
       "<IPython.core.display.HTML object>"
      ]
     },
     "metadata": {},
     "output_type": "display_data"
    },
    {
     "data": {
      "text/html": [
       " View run <strong style=\"color:#cdcd00\">gnd_test: 3</strong> at: <a href='https://wandb.ai/marvic1130/DL-based%20UAV%20Positioning/runs/ctof9mnh' target=\"_blank\">https://wandb.ai/marvic1130/DL-based%20UAV%20Positioning/runs/ctof9mnh</a><br/> View project at: <a href='https://wandb.ai/marvic1130/DL-based%20UAV%20Positioning' target=\"_blank\">https://wandb.ai/marvic1130/DL-based%20UAV%20Positioning</a><br/>Synced 5 W&B file(s), 0 media file(s), 0 artifact file(s) and 0 other file(s)"
      ],
      "text/plain": [
       "<IPython.core.display.HTML object>"
      ]
     },
     "metadata": {},
     "output_type": "display_data"
    },
    {
     "data": {
      "text/html": [
       "Find logs at: <code>./wandb/run-20250217_232712-ctof9mnh/logs</code>"
      ],
      "text/plain": [
       "<IPython.core.display.HTML object>"
      ]
     },
     "metadata": {},
     "output_type": "display_data"
    },
    {
     "data": {
      "text/html": [
       "Tracking run with wandb version 0.18.5"
      ],
      "text/plain": [
       "<IPython.core.display.HTML object>"
      ]
     },
     "metadata": {},
     "output_type": "display_data"
    },
    {
     "data": {
      "text/html": [
       "Run data is saved locally in <code>/home/yskang/Projects/DL-Based-UAV-Positioning-in-Blockage-Aware-Channel-Model/wandb/run-20250217_233804-99gmu79t</code>"
      ],
      "text/plain": [
       "<IPython.core.display.HTML object>"
      ]
     },
     "metadata": {},
     "output_type": "display_data"
    },
    {
     "data": {
      "text/html": [
       "Syncing run <strong><a href='https://wandb.ai/marvic1130/DL-based%20UAV%20Positioning/runs/99gmu79t' target=\"_blank\">gnd_test: 4</a></strong> to <a href='https://wandb.ai/marvic1130/DL-based%20UAV%20Positioning' target=\"_blank\">Weights & Biases</a> (<a href='https://wandb.me/run' target=\"_blank\">docs</a>)<br/>"
      ],
      "text/plain": [
       "<IPython.core.display.HTML object>"
      ]
     },
     "metadata": {},
     "output_type": "display_data"
    },
    {
     "data": {
      "text/html": [
       " View project at <a href='https://wandb.ai/marvic1130/DL-based%20UAV%20Positioning' target=\"_blank\">https://wandb.ai/marvic1130/DL-based%20UAV%20Positioning</a>"
      ],
      "text/plain": [
       "<IPython.core.display.HTML object>"
      ]
     },
     "metadata": {},
     "output_type": "display_data"
    },
    {
     "data": {
      "text/html": [
       " View run at <a href='https://wandb.ai/marvic1130/DL-based%20UAV%20Positioning/runs/99gmu79t' target=\"_blank\">https://wandb.ai/marvic1130/DL-based%20UAV%20Positioning/runs/99gmu79t</a>"
      ],
      "text/plain": [
       "<IPython.core.display.HTML object>"
      ]
     },
     "metadata": {},
     "output_type": "display_data"
    },
    {
     "name": "stderr",
     "output_type": "stream",
     "text": [
      "Training with gn_num=4: 100%|██████████| 1000/1000 [13:19<00:00,  1.25it/s]\n"
     ]
    },
    {
     "data": {
      "text/html": [
       "<style>\n",
       "    table.wandb td:nth-child(1) { padding: 0 10px; text-align: left ; width: auto;} td:nth-child(2) {text-align: left ; width: 100%}\n",
       "    .wandb-row { display: flex; flex-direction: row; flex-wrap: wrap; justify-content: flex-start; width: 100% }\n",
       "    .wandb-col { display: flex; flex-direction: column; flex-basis: 100%; flex: 1; padding: 10px; }\n",
       "    </style>\n",
       "<div class=\"wandb-row\"><div class=\"wandb-col\"><h3>Run history:</h3><br/><table class=\"wandb\"><tr><td>epoch</td><td>▁▁▁▁▁▂▂▂▃▃▃▃▄▄▄▄▄▄▄▄▄▄▅▅▅▅▅▅▅▆▆▆▇▇▇▇▇▇██</td></tr><tr><td>test SE avg</td><td>▁</td></tr><tr><td>time</td><td>▂▁█▂▁▂▂▂▁▃▂▃▃▂▁▂▁▂▂▁▁▁▂▂▃▁▃▃▃▃▃▃▂▇▁▂▂▂▁▁</td></tr><tr><td>train_loss</td><td>█▆▆▅▅▅▄▄▄▄▄▅▄▄▄▃▃▂▃▂▃▃▃▃▂▂▂▃▂▂▁▂▃▂▂▁▂▂▁▁</td></tr><tr><td>val_loss</td><td>██▅▆▅▄▃▄▃▄▃▄▄▃▃▃▂▃▃▃▂▃▂▃▄▂▂▂▃▂▂▂▂▁▁▂▁▁▁▂</td></tr></table><br/></div><div class=\"wandb-col\"><h3>Run summary:</h3><br/><table class=\"wandb\"><tr><td>epoch</td><td>1000</td></tr><tr><td>test SE avg</td><td>12.07526</td></tr><tr><td>time</td><td>0.75303</td></tr><tr><td>train_loss</td><td>-12.0524</td></tr><tr><td>val_loss</td><td>-12.05723</td></tr></table><br/></div></div>"
      ],
      "text/plain": [
       "<IPython.core.display.HTML object>"
      ]
     },
     "metadata": {},
     "output_type": "display_data"
    },
    {
     "data": {
      "text/html": [
       " View run <strong style=\"color:#cdcd00\">gnd_test: 4</strong> at: <a href='https://wandb.ai/marvic1130/DL-based%20UAV%20Positioning/runs/99gmu79t' target=\"_blank\">https://wandb.ai/marvic1130/DL-based%20UAV%20Positioning/runs/99gmu79t</a><br/> View project at: <a href='https://wandb.ai/marvic1130/DL-based%20UAV%20Positioning' target=\"_blank\">https://wandb.ai/marvic1130/DL-based%20UAV%20Positioning</a><br/>Synced 5 W&B file(s), 0 media file(s), 0 artifact file(s) and 0 other file(s)"
      ],
      "text/plain": [
       "<IPython.core.display.HTML object>"
      ]
     },
     "metadata": {},
     "output_type": "display_data"
    },
    {
     "data": {
      "text/html": [
       "Find logs at: <code>./wandb/run-20250217_233804-99gmu79t/logs</code>"
      ],
      "text/plain": [
       "<IPython.core.display.HTML object>"
      ]
     },
     "metadata": {},
     "output_type": "display_data"
    },
    {
     "data": {
      "text/html": [
       "Tracking run with wandb version 0.18.5"
      ],
      "text/plain": [
       "<IPython.core.display.HTML object>"
      ]
     },
     "metadata": {},
     "output_type": "display_data"
    },
    {
     "data": {
      "text/html": [
       "Run data is saved locally in <code>/home/yskang/Projects/DL-Based-UAV-Positioning-in-Blockage-Aware-Channel-Model/wandb/run-20250217_235126-mlflldms</code>"
      ],
      "text/plain": [
       "<IPython.core.display.HTML object>"
      ]
     },
     "metadata": {},
     "output_type": "display_data"
    },
    {
     "data": {
      "text/html": [
       "Syncing run <strong><a href='https://wandb.ai/marvic1130/DL-based%20UAV%20Positioning/runs/mlflldms' target=\"_blank\">gnd_test: 5</a></strong> to <a href='https://wandb.ai/marvic1130/DL-based%20UAV%20Positioning' target=\"_blank\">Weights & Biases</a> (<a href='https://wandb.me/run' target=\"_blank\">docs</a>)<br/>"
      ],
      "text/plain": [
       "<IPython.core.display.HTML object>"
      ]
     },
     "metadata": {},
     "output_type": "display_data"
    },
    {
     "data": {
      "text/html": [
       " View project at <a href='https://wandb.ai/marvic1130/DL-based%20UAV%20Positioning' target=\"_blank\">https://wandb.ai/marvic1130/DL-based%20UAV%20Positioning</a>"
      ],
      "text/plain": [
       "<IPython.core.display.HTML object>"
      ]
     },
     "metadata": {},
     "output_type": "display_data"
    },
    {
     "data": {
      "text/html": [
       " View run at <a href='https://wandb.ai/marvic1130/DL-based%20UAV%20Positioning/runs/mlflldms' target=\"_blank\">https://wandb.ai/marvic1130/DL-based%20UAV%20Positioning/runs/mlflldms</a>"
      ],
      "text/plain": [
       "<IPython.core.display.HTML object>"
      ]
     },
     "metadata": {},
     "output_type": "display_data"
    },
    {
     "name": "stderr",
     "output_type": "stream",
     "text": [
      "Training with gn_num=5: 100%|██████████| 1000/1000 [15:37<00:00,  1.07it/s]\n"
     ]
    },
    {
     "data": {
      "text/html": [
       "<style>\n",
       "    table.wandb td:nth-child(1) { padding: 0 10px; text-align: left ; width: auto;} td:nth-child(2) {text-align: left ; width: 100%}\n",
       "    .wandb-row { display: flex; flex-direction: row; flex-wrap: wrap; justify-content: flex-start; width: 100% }\n",
       "    .wandb-col { display: flex; flex-direction: column; flex-basis: 100%; flex: 1; padding: 10px; }\n",
       "    </style>\n",
       "<div class=\"wandb-row\"><div class=\"wandb-col\"><h3>Run history:</h3><br/><table class=\"wandb\"><tr><td>epoch</td><td>▁▁▁▁▂▂▂▂▂▃▃▃▃▃▃▃▃▃▃▄▄▄▄▄▄▅▅▅▅▅▆▆▆▇▇▇▇███</td></tr><tr><td>test SE avg</td><td>▁</td></tr><tr><td>time</td><td>▂▂▂▃▂▂▂▃▁▁▁▂▁▁▂▁▁▃▃▂▁▃▁▁▃█▁▂▃▂▃▇▂▂▃▃▂▂▁▁</td></tr><tr><td>train_loss</td><td>█▅▄▃▃▂▃▂▃▃▂▂▂▂▂▂▂▂▂▂▂▂▂▁▁▁▁▁▁▁▁▁▁▁▁▁▁▁▁▁</td></tr><tr><td>val_loss</td><td>█▇▃▃▃▃▄▃▃▃▃▂▃▃▃▁▂▂▃▂▂▂▂▂▂▁▁▁▁▁▂▂▁▁▁▁▁▁▁▂</td></tr></table><br/></div><div class=\"wandb-col\"><h3>Run summary:</h3><br/><table class=\"wandb\"><tr><td>epoch</td><td>1000</td></tr><tr><td>test SE avg</td><td>12.0009</td></tr><tr><td>time</td><td>0.83638</td></tr><tr><td>train_loss</td><td>-12.00913</td></tr><tr><td>val_loss</td><td>-12.00774</td></tr></table><br/></div></div>"
      ],
      "text/plain": [
       "<IPython.core.display.HTML object>"
      ]
     },
     "metadata": {},
     "output_type": "display_data"
    },
    {
     "data": {
      "text/html": [
       " View run <strong style=\"color:#cdcd00\">gnd_test: 5</strong> at: <a href='https://wandb.ai/marvic1130/DL-based%20UAV%20Positioning/runs/mlflldms' target=\"_blank\">https://wandb.ai/marvic1130/DL-based%20UAV%20Positioning/runs/mlflldms</a><br/> View project at: <a href='https://wandb.ai/marvic1130/DL-based%20UAV%20Positioning' target=\"_blank\">https://wandb.ai/marvic1130/DL-based%20UAV%20Positioning</a><br/>Synced 5 W&B file(s), 0 media file(s), 0 artifact file(s) and 0 other file(s)"
      ],
      "text/plain": [
       "<IPython.core.display.HTML object>"
      ]
     },
     "metadata": {},
     "output_type": "display_data"
    },
    {
     "data": {
      "text/html": [
       "Find logs at: <code>./wandb/run-20250217_235126-mlflldms/logs</code>"
      ],
      "text/plain": [
       "<IPython.core.display.HTML object>"
      ]
     },
     "metadata": {},
     "output_type": "display_data"
    },
    {
     "data": {
      "text/html": [
       "Tracking run with wandb version 0.18.5"
      ],
      "text/plain": [
       "<IPython.core.display.HTML object>"
      ]
     },
     "metadata": {},
     "output_type": "display_data"
    },
    {
     "data": {
      "text/html": [
       "Run data is saved locally in <code>/home/yskang/Projects/DL-Based-UAV-Positioning-in-Blockage-Aware-Channel-Model/wandb/run-20250218_000707-l7cdvdty</code>"
      ],
      "text/plain": [
       "<IPython.core.display.HTML object>"
      ]
     },
     "metadata": {},
     "output_type": "display_data"
    },
    {
     "data": {
      "text/html": [
       "Syncing run <strong><a href='https://wandb.ai/marvic1130/DL-based%20UAV%20Positioning/runs/l7cdvdty' target=\"_blank\">gnd_test: 6</a></strong> to <a href='https://wandb.ai/marvic1130/DL-based%20UAV%20Positioning' target=\"_blank\">Weights & Biases</a> (<a href='https://wandb.me/run' target=\"_blank\">docs</a>)<br/>"
      ],
      "text/plain": [
       "<IPython.core.display.HTML object>"
      ]
     },
     "metadata": {},
     "output_type": "display_data"
    },
    {
     "data": {
      "text/html": [
       " View project at <a href='https://wandb.ai/marvic1130/DL-based%20UAV%20Positioning' target=\"_blank\">https://wandb.ai/marvic1130/DL-based%20UAV%20Positioning</a>"
      ],
      "text/plain": [
       "<IPython.core.display.HTML object>"
      ]
     },
     "metadata": {},
     "output_type": "display_data"
    },
    {
     "data": {
      "text/html": [
       " View run at <a href='https://wandb.ai/marvic1130/DL-based%20UAV%20Positioning/runs/l7cdvdty' target=\"_blank\">https://wandb.ai/marvic1130/DL-based%20UAV%20Positioning/runs/l7cdvdty</a>"
      ],
      "text/plain": [
       "<IPython.core.display.HTML object>"
      ]
     },
     "metadata": {},
     "output_type": "display_data"
    },
    {
     "name": "stderr",
     "output_type": "stream",
     "text": [
      "Training with gn_num=6: 100%|██████████| 1000/1000 [17:52<00:00,  1.07s/it]\n"
     ]
    },
    {
     "data": {
      "text/html": [
       "<style>\n",
       "    table.wandb td:nth-child(1) { padding: 0 10px; text-align: left ; width: auto;} td:nth-child(2) {text-align: left ; width: 100%}\n",
       "    .wandb-row { display: flex; flex-direction: row; flex-wrap: wrap; justify-content: flex-start; width: 100% }\n",
       "    .wandb-col { display: flex; flex-direction: column; flex-basis: 100%; flex: 1; padding: 10px; }\n",
       "    </style>\n",
       "<div class=\"wandb-row\"><div class=\"wandb-col\"><h3>Run history:</h3><br/><table class=\"wandb\"><tr><td>epoch</td><td>▁▁▁▁▁▁▁▂▂▂▂▃▃▃▃▃▃▄▄▄▄▄▄▅▅▅▅▅▆▆▆▆▆▆▇▇▇███</td></tr><tr><td>test SE avg</td><td>▁</td></tr><tr><td>time</td><td>▃█▂▃▂▂▃▂▂▂▃█▂▁▁▂▃▃▃▃▁▂▃▂▃▁▃▃▁▂▁▂▂▂▃▁▁▁▃▃</td></tr><tr><td>train_loss</td><td>█▆▇▆▆▄▅▆▄▄▄▄▄▄▄▃▄▃▃▂▄▃▃▃▂▂▂▂▂▁▃▂▂▂▁▁▂▁▁▁</td></tr><tr><td>val_loss</td><td>█▆▅▅▆▃▃▃▃▃▂▃▂▃▂▂▂▂▂▁▂▃▂▂▂▂▁▁▂▂▂▁▁▂▂▁▁▂▂▁</td></tr></table><br/></div><div class=\"wandb-col\"><h3>Run summary:</h3><br/><table class=\"wandb\"><tr><td>epoch</td><td>1000</td></tr><tr><td>test SE avg</td><td>11.96867</td></tr><tr><td>time</td><td>0.96588</td></tr><tr><td>train_loss</td><td>-11.97645</td></tr><tr><td>val_loss</td><td>-11.97755</td></tr></table><br/></div></div>"
      ],
      "text/plain": [
       "<IPython.core.display.HTML object>"
      ]
     },
     "metadata": {},
     "output_type": "display_data"
    },
    {
     "data": {
      "text/html": [
       " View run <strong style=\"color:#cdcd00\">gnd_test: 6</strong> at: <a href='https://wandb.ai/marvic1130/DL-based%20UAV%20Positioning/runs/l7cdvdty' target=\"_blank\">https://wandb.ai/marvic1130/DL-based%20UAV%20Positioning/runs/l7cdvdty</a><br/> View project at: <a href='https://wandb.ai/marvic1130/DL-based%20UAV%20Positioning' target=\"_blank\">https://wandb.ai/marvic1130/DL-based%20UAV%20Positioning</a><br/>Synced 5 W&B file(s), 0 media file(s), 0 artifact file(s) and 0 other file(s)"
      ],
      "text/plain": [
       "<IPython.core.display.HTML object>"
      ]
     },
     "metadata": {},
     "output_type": "display_data"
    },
    {
     "data": {
      "text/html": [
       "Find logs at: <code>./wandb/run-20250218_000707-l7cdvdty/logs</code>"
      ],
      "text/plain": [
       "<IPython.core.display.HTML object>"
      ]
     },
     "metadata": {},
     "output_type": "display_data"
    }
   ],
   "source": [
    "# Training\n",
    "\n",
    "for idx, dataset in test_sets.items():\n",
    "    wandb.init(project=\"DL-based UAV Positioning\", name=f\"gnd_test: {dataset['gn_num']}\", config={\n",
    "            \"batch_size\": batch_size,\n",
    "            \"epochs\": 1000,\n",
    "            \"random_seed\": random_seed,\n",
    "            \"learning_rates\": 1e-4,\n",
    "            \"gn_num\": dataset['gn_num']\n",
    "        })\n",
    "\n",
    "    train_dataloader = DataLoader(dataset[\"train_dataset\"], batch_size=batch_size, shuffle=True)\n",
    "    val_dataloader = DataLoader(dataset[\"val_dataset\"], batch_size=batch_size, shuffle=False)\n",
    "    test_dataloader = DataLoader(dataset[\"test_dataset\"], batch_size=batch_size, shuffle=False)\n",
    "\n",
    "    scaler_x = dataset[\"scaler\"]\n",
    "\n",
    "    # 모델 및 옵티마이저 초기화\n",
    "    model = dataset[\"model\"]\n",
    "    optimizer = torch.optim.Adam(model.parameters(), lr=1e-4)\n",
    "\n",
    "    torch.nn.utils.clip_grad_norm_(model.parameters(), max_norm=1.0)\n",
    "    for epoch in trange(1000, desc=f\"Training with gn_num={dataset['gn_num']}\"):\n",
    "        train_loss = 0.0\n",
    "        model.train()\n",
    "        start_time = time()\n",
    "        for x in train_dataloader:\n",
    "            optimizer.zero_grad()\n",
    "            y_pred = model(x)\n",
    "\n",
    "            # x_reshaped 생성\n",
    "            x_reshaped = torch.tensor(scaler_x.inverse_transform(x.cpu()), device=hp.device,\n",
    "                                          dtype=torch.float32).view(-1, dataset[\"gn_num\"], 2)\n",
    "            x_reshaped = torch.cat(\n",
    "                (x_reshaped, torch.zeros((x_reshaped.shape[0], x_reshaped.shape[1], 1), device=hp.device)), dim=-1)\n",
    "\n",
    "            # y_pred 수정 및 손실 계산\n",
    "            y_pred = torch.hstack((y_pred, torch.ones(y_pred.shape[0], 1, device=hp.device) * 0.7)) * 100\n",
    "            loss = calc_loss(y_pred, x_reshaped, obst_points)\n",
    "            loss.backward()\n",
    "            optimizer.step()\n",
    "            train_loss += loss.item()\n",
    "        end_time = time()\n",
    "\n",
    "\n",
    "        # 검증 손실 계산\n",
    "        val_loss = 0.0\n",
    "        model.eval()\n",
    "        with torch.no_grad():\n",
    "            for x in val_dataloader:\n",
    "                y_pred = model(x)\n",
    "                x_reshaped = torch.tensor(scaler_x.inverse_transform(x.cpu()), device=hp.device,\n",
    "                                          dtype=torch.float32).view(-1, dataset[\"gn_num\"], 2)\n",
    "                x_reshaped = torch.cat(\n",
    "                    (x_reshaped, torch.zeros((x_reshaped.shape[0], x_reshaped.shape[1], 1), device=hp.device)),\n",
    "                    dim=-1)\n",
    "                y_pred = torch.hstack((y_pred, torch.ones(y_pred.shape[0], 1, device=hp.device) * 0.7)) * 100\n",
    "                val_loss += calc_loss(y_pred, x_reshaped, obst_points).item()\n",
    "\n",
    "        # 에폭별 평균 손실 기록\n",
    "        train_loss /= len(train_dataloader)\n",
    "        val_loss /= len(val_dataloader)\n",
    "        dataset[\"result\"][\"train_loss\"].append(train_loss)\n",
    "        dataset[\"result\"][\"val_loss\"].append(val_loss)\n",
    "\n",
    "        # wandb에 손실 로깅\n",
    "        wandb.log({\n",
    "            f\"train_loss\": train_loss,\n",
    "            f\"val_loss\": val_loss,\n",
    "            \"epoch\": epoch + 1,\n",
    "            \"time\": end_time - start_time\n",
    "        })\n",
    "\n",
    "    # Test\n",
    "\n",
    "    test_se = 0.0\n",
    "\n",
    "    for x in test_dataloader:\n",
    "        y_pred = model(x)\n",
    "        x_reshaped = torch.tensor(scaler_x.inverse_transform(x.cpu()), device=hp.device,\n",
    "                                  dtype=torch.float32).view(-1, dataset[\"gn_num\"], 2)\n",
    "        x_reshaped = torch.cat(\n",
    "            (x_reshaped, torch.zeros((x_reshaped.shape[0], x_reshaped.shape[1], 1), device=hp.device)), dim=-1)\n",
    "        y_pred = torch.hstack((y_pred, torch.ones(y_pred.shape[0], 1, device=hp.device) * 0.7)) * 100\n",
    "        test_se -= calc_loss(y_pred, x_reshaped, obst_points).item()\n",
    "\n",
    "    test_se /= len(test_dataloader)\n",
    "    wandb.log({\"test SE avg\": test_se})\n",
    "    wandb.finish()"
   ]
  },
  {
   "cell_type": "code",
   "execution_count": null,
   "id": "c54bc9f5396ae05e",
   "metadata": {
    "ExecuteTime": {
     "end_time": "2025-02-17T14:09:43.038974Z",
     "start_time": "2025-02-17T13:28:46.146171Z"
    }
   },
   "outputs": [],
   "source": []
  }
 ],
 "metadata": {
  "kernelspec": {
   "display_name": "Blockage",
   "language": "python",
   "name": "python3"
  },
  "language_info": {
   "codemirror_mode": {
    "name": "ipython",
    "version": 3
   },
   "file_extension": ".py",
   "mimetype": "text/x-python",
   "name": "python",
   "nbconvert_exporter": "python",
   "pygments_lexer": "ipython3",
   "version": "3.11.10"
  }
 },
 "nbformat": 4,
 "nbformat_minor": 5
}
