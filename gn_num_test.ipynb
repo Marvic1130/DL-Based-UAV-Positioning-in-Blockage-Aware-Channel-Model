{
 "cells": [
  {
   "metadata": {},
   "cell_type": "markdown",
   "source": [
    "# Gn_num_test\n",
    "\n",
    "지상 단말 개수에 따른 학습 시간(it/s), SE 변화 측정"
   ],
   "id": "e6aef8d83861e35a"
  },
  {
   "cell_type": "code",
   "id": "initial_id",
   "metadata": {
    "collapsed": true,
    "ExecuteTime": {
     "end_time": "2025-02-17T14:07:06.945774Z",
     "start_time": "2025-02-17T14:07:05.162355Z"
    }
   },
   "source": [
    "from time import time\n",
    "import numpy as np\n",
    "import pandas as pd\n",
    "from matplotlib import pyplot as plt\n",
    "import torch\n",
    "from torch.utils.data import DataLoader\n",
    "from sklearn.preprocessing import MinMaxScaler\n",
    "from sklearn.model_selection import train_test_split\n",
    "from tqdm import trange\n",
    "import wandb\n",
    "\n",
    "from datasets import CubeObstacle, CylinderObstacle, BlockageDataset\n",
    "from utils.config import Hyperparameters as hp\n",
    "from datasets import TrainDataset\n",
    "from model import Net\n",
    "from utils.tools import calc_loss"
   ],
   "outputs": [],
   "execution_count": 1
  },
  {
   "metadata": {
    "ExecuteTime": {
     "end_time": "2025-02-17T14:07:06.956859Z",
     "start_time": "2025-02-17T14:07:06.948430Z"
    }
   },
   "cell_type": "code",
   "source": [
    "# Create datasets\n",
    "\n",
    "batch_size = 2**10\n",
    "random_seed = 42\n",
    "\n",
    "obstacle_ls = [\n",
    "    CubeObstacle(-30, 25, 35, 60, 20, 0.1),\n",
    "    CubeObstacle(-30, -25, 45, 10, 35, 0.1),\n",
    "    CubeObstacle(-30, -60, 35, 60, 20, 0.1),\n",
    "    CubeObstacle(50, -20, 35, 25, 25, 0.1),\n",
    "    CylinderObstacle(10, -5,  70, 15, 0.1),\n",
    "]\n",
    "\n",
    "obst_points = []\n",
    "for obstacle in obstacle_ls:\n",
    "    obst_points.append(torch.tensor(obstacle.points, dtype=torch.float32))\n",
    "\n",
    "obst_points = torch.cat([op for op in obst_points], dim=1).mT.to(hp.device)"
   ],
   "id": "c37e0666bf850da8",
   "outputs": [],
   "execution_count": 2
  },
  {
   "metadata": {
    "ExecuteTime": {
     "end_time": "2025-02-17T14:07:13.846375Z",
     "start_time": "2025-02-17T14:07:07.082418Z"
    }
   },
   "cell_type": "code",
   "source": [
    "gn_datasets = []\n",
    "for i in range(2,7):\n",
    "    np.random.seed(random_seed)\n",
    "    torch.manual_seed(random_seed)\n",
    "    gn_datasets.append(BlockageDataset(110000, obstacle_ls, i, dtype=torch.float32).to(hp.device))"
   ],
   "id": "8e43f6bbaee1a348",
   "outputs": [
    {
     "name": "stderr",
     "output_type": "stream",
     "text": [
      "100%|██████████| 110000/110000 [00:00<00:00, 130875.24it/s]\n",
      "100%|██████████| 110000/110000 [00:01<00:00, 100555.52it/s]\n",
      "100%|██████████| 110000/110000 [00:01<00:00, 81716.69it/s]\n",
      "100%|██████████| 110000/110000 [00:01<00:00, 69178.34it/s]\n",
      "100%|██████████| 110000/110000 [00:01<00:00, 59727.98it/s]\n"
     ]
    }
   ],
   "execution_count": 3
  },
  {
   "metadata": {
    "ExecuteTime": {
     "end_time": "2025-02-17T14:07:13.867998Z",
     "start_time": "2025-02-17T14:07:13.866059Z"
    }
   },
   "cell_type": "code",
   "source": [
    "for dataset in gn_datasets:\n",
    "    print(dataset.gnd_nodes.shape)"
   ],
   "id": "7de1618cc4698237",
   "outputs": [
    {
     "name": "stdout",
     "output_type": "stream",
     "text": [
      "torch.Size([110000, 2, 3])\n",
      "torch.Size([110000, 3, 3])\n",
      "torch.Size([110000, 4, 3])\n",
      "torch.Size([110000, 5, 3])\n",
      "torch.Size([110000, 6, 3])\n"
     ]
    }
   ],
   "execution_count": 4
  },
  {
   "metadata": {
    "ExecuteTime": {
     "end_time": "2025-02-17T14:07:14.019921Z",
     "start_time": "2025-02-17T14:07:13.881055Z"
    }
   },
   "cell_type": "code",
   "source": [
    "# data preprocessing\n",
    "test_sets = {}\n",
    "\n",
    "for idx, dataset in enumerate(gn_datasets):\n",
    "    data = dataset.gnd_nodes.cpu().numpy()\n",
    "    data = np.delete(data, 2, axis=2)\n",
    "    data = data.reshape(-1, data.shape[1] * data.shape[2])\n",
    "\n",
    "    scaler = MinMaxScaler(feature_range=(0, 1))\n",
    "    data_scaled = scaler.fit_transform(data)\n",
    "    test_data = data_scaled[100000:]\n",
    "    train_data, val_data = train_test_split(data_scaled[:100000], test_size=0.2, random_state=random_seed)\n",
    "\n",
    "    model = Net(data.shape[1], 1024, 4, output_N=2).to(hp.device)\n",
    "    train_dataset = TrainDataset(train_data, dtype=torch.float32).to(hp.device)\n",
    "    val_dataset = TrainDataset(val_data, dtype=torch.float32).to(hp.device)\n",
    "    test_dataset = TrainDataset(test_data, dtype=torch.float32).to(hp.device)\n",
    "\n",
    "    test_sets[idx] = {\n",
    "        \"gn_num\": dataset.gnd_nodes.shape[1],\n",
    "        \"train_dataset\": train_dataset,\n",
    "        \"val_dataset\": val_dataset,\n",
    "        \"test_dataset\": test_dataset,\n",
    "        \"scaler\": scaler,\n",
    "        \"model\": model,\n",
    "        \"result\": {\"train_loss\": [], \"val_loss\": []}\n",
    "    }\n"
   ],
   "id": "e48996ab3352b680",
   "outputs": [],
   "execution_count": 5
  },
  {
   "metadata": {
    "ExecuteTime": {
     "end_time": "2025-02-17T14:09:43.019833Z",
     "start_time": "2025-02-17T14:07:14.035218Z"
    }
   },
   "cell_type": "code",
   "source": [
    "# Training\n",
    "\n",
    "for idx, dataset in test_sets.items():\n",
    "    wandb.init(project=\"DL-based UAV Positioning\", name=f\"gnd_test: {dataset['gn_num']}\", config={\n",
    "            \"batch_size\": batch_size,\n",
    "            \"epochs\": 1000,\n",
    "            \"random_seed\": random_seed,\n",
    "            \"learning_rates\": 1e-4,\n",
    "            \"gn_num\": dataset['gn_num']\n",
    "        })\n",
    "\n",
    "    train_dataloader = DataLoader(dataset[\"train_dataset\"], batch_size=batch_size, shuffle=True)\n",
    "    val_dataloader = DataLoader(dataset[\"val_dataset\"], batch_size=batch_size, shuffle=False)\n",
    "    test_dataloader = DataLoader(dataset[\"test_dataset\"], batch_size=batch_size, shuffle=False)\n",
    "\n",
    "    scaler_x = dataset[\"scaler\"]\n",
    "\n",
    "    # 모델 및 옵티마이저 초기화\n",
    "    model = dataset[\"model\"]\n",
    "    optimizer = torch.optim.Adam(model.parameters(), lr=1e-4)\n",
    "\n",
    "    torch.nn.utils.clip_grad_norm_(model.parameters(), max_norm=1.0)\n",
    "    for epoch in trange(1000, desc=f\"Training with gn_num={dataset['gn_num']}\"):\n",
    "        train_loss = 0.0\n",
    "        model.train()\n",
    "        start_time = time()\n",
    "        for x in train_dataloader:\n",
    "            optimizer.zero_grad()\n",
    "            y_pred = model(x)\n",
    "\n",
    "            # x_reshaped 생성\n",
    "            x_reshaped = torch.tensor(scaler_x.inverse_transform(x.cpu()), device=hp.device,\n",
    "                                          dtype=torch.float32).view(-1, dataset[\"gn_num\"], 2)\n",
    "            x_reshaped = torch.cat(\n",
    "                (x_reshaped, torch.zeros((x_reshaped.shape[0], x_reshaped.shape[1], 1), device=hp.device)), dim=-1)\n",
    "\n",
    "            # y_pred 수정 및 손실 계산\n",
    "            y_pred = torch.hstack((y_pred, torch.ones(y_pred.shape[0], 1, device=hp.device) * 0.7)) * 100\n",
    "            loss = calc_loss(y_pred, x_reshaped, obst_points)\n",
    "            loss.backward()\n",
    "            optimizer.step()\n",
    "            train_loss += loss.item()\n",
    "        end_time = time()\n",
    "\n",
    "\n",
    "        # 검증 손실 계산\n",
    "        val_loss = 0.0\n",
    "        model.eval()\n",
    "        with torch.no_grad():\n",
    "            for x in val_dataloader:\n",
    "                y_pred = model(x)\n",
    "                x_reshaped = torch.tensor(scaler_x.inverse_transform(x.cpu()), device=hp.device,\n",
    "                                          dtype=torch.float32).view(-1, dataset[\"gn_num\"], 2)\n",
    "                x_reshaped = torch.cat(\n",
    "                    (x_reshaped, torch.zeros((x_reshaped.shape[0], x_reshaped.shape[1], 1), device=hp.device)),\n",
    "                    dim=-1)\n",
    "                y_pred = torch.hstack((y_pred, torch.ones(y_pred.shape[0], 1, device=hp.device) * 0.7)) * 100\n",
    "                val_loss += calc_loss(y_pred, x_reshaped, obst_points).item()\n",
    "\n",
    "        # 에폭별 평균 손실 기록\n",
    "        train_loss /= len(train_dataloader)\n",
    "        val_loss /= len(val_dataloader)\n",
    "        dataset[\"result\"][\"train_loss\"].append(train_loss)\n",
    "        dataset[\"result\"][\"val_loss\"].append(val_loss)\n",
    "\n",
    "        # wandb에 손실 로깅\n",
    "        wandb.log({\n",
    "            f\"train_loss\": train_loss,\n",
    "            f\"val_loss\": val_loss,\n",
    "            \"epoch\": epoch + 1,\n",
    "            \"time\": end_time - start_time\n",
    "        })\n",
    "\n",
    "    # Test\n",
    "\n",
    "    test_se = 0.0\n",
    "\n",
    "    for x in test_dataloader:\n",
    "        y_pred = model(x)\n",
    "        x_reshaped = torch.tensor(scaler_x.inverse_transform(x.cpu()), device=hp.device,\n",
    "                                  dtype=torch.float32).view(-1, dataset[\"gn_num\"], 2)\n",
    "        x_reshaped = torch.cat(\n",
    "            (x_reshaped, torch.zeros((x_reshaped.shape[0], x_reshaped.shape[1], 1), device=hp.device)), dim=-1)\n",
    "        y_pred = torch.hstack((y_pred, torch.ones(y_pred.shape[0], 1, device=hp.device) * 0.7)) * 100\n",
    "        test_se -= calc_loss(y_pred, x_reshaped, obst_points).item()\n",
    "\n",
    "    test_se /= len(test_dataloader)\n",
    "    wandb.log({\"test SE avg\": test_se})\n",
    "    wandb.finish()"
   ],
   "id": "3870a42335e908d6",
   "outputs": [
    {
     "name": "stderr",
     "output_type": "stream",
     "text": [
      "\u001B[34m\u001B[1mwandb\u001B[0m: Using wandb-core as the SDK backend. Please refer to https://wandb.me/wandb-core for more information.\n",
      "\u001B[34m\u001B[1mwandb\u001B[0m: Currently logged in as: \u001B[33mmarvic1130\u001B[0m. Use \u001B[1m`wandb login --relogin`\u001B[0m to force relogin\n"
     ]
    },
    {
     "data": {
      "text/plain": [
       "<IPython.core.display.HTML object>"
      ],
      "text/html": [
       "Tracking run with wandb version 0.18.5"
      ]
     },
     "metadata": {},
     "output_type": "display_data"
    },
    {
     "data": {
      "text/plain": [
       "<IPython.core.display.HTML object>"
      ],
      "text/html": [
       "Run data is saved locally in <code>/Users/ys.kang/Projects/DL-Based-UAV-Positioning-in-Blockage-Aware-Channel-Model/wandb/run-20250217_230714-7k2bh7po</code>"
      ]
     },
     "metadata": {},
     "output_type": "display_data"
    },
    {
     "data": {
      "text/plain": [
       "<IPython.core.display.HTML object>"
      ],
      "text/html": [
       "Syncing run <strong><a href='https://wandb.ai/marvic1130/DL-based%20UAV%20Positioning/runs/7k2bh7po' target=\"_blank\">gnd_test: 2</a></strong> to <a href='https://wandb.ai/marvic1130/DL-based%20UAV%20Positioning' target=\"_blank\">Weights & Biases</a> (<a href='https://wandb.me/run' target=\"_blank\">docs</a>)<br/>"
      ]
     },
     "metadata": {},
     "output_type": "display_data"
    },
    {
     "data": {
      "text/plain": [
       "<IPython.core.display.HTML object>"
      ],
      "text/html": [
       " View project at <a href='https://wandb.ai/marvic1130/DL-based%20UAV%20Positioning' target=\"_blank\">https://wandb.ai/marvic1130/DL-based%20UAV%20Positioning</a>"
      ]
     },
     "metadata": {},
     "output_type": "display_data"
    },
    {
     "data": {
      "text/plain": [
       "<IPython.core.display.HTML object>"
      ],
      "text/html": [
       " View run at <a href='https://wandb.ai/marvic1130/DL-based%20UAV%20Positioning/runs/7k2bh7po' target=\"_blank\">https://wandb.ai/marvic1130/DL-based%20UAV%20Positioning/runs/7k2bh7po</a>"
      ]
     },
     "metadata": {},
     "output_type": "display_data"
    },
    {
     "name": "stderr",
     "output_type": "stream",
     "text": [
      "Training with gn_num=2:   3%|▎         | 27/1000 [02:26<1:28:15,  5.44s/it]\n"
     ]
    },
    {
     "ename": "KeyboardInterrupt",
     "evalue": "",
     "output_type": "error",
     "traceback": [
      "\u001B[0;31m---------------------------------------------------------------------------\u001B[0m",
      "\u001B[0;31mKeyboardInterrupt\u001B[0m                         Traceback (most recent call last)",
      "Cell \u001B[0;32mIn[6], line 40\u001B[0m\n\u001B[1;32m     38\u001B[0m y_pred \u001B[38;5;241m=\u001B[39m torch\u001B[38;5;241m.\u001B[39mhstack((y_pred, torch\u001B[38;5;241m.\u001B[39mones(y_pred\u001B[38;5;241m.\u001B[39mshape[\u001B[38;5;241m0\u001B[39m], \u001B[38;5;241m1\u001B[39m, device\u001B[38;5;241m=\u001B[39mhp\u001B[38;5;241m.\u001B[39mdevice) \u001B[38;5;241m*\u001B[39m \u001B[38;5;241m0.7\u001B[39m)) \u001B[38;5;241m*\u001B[39m \u001B[38;5;241m100\u001B[39m\n\u001B[1;32m     39\u001B[0m loss \u001B[38;5;241m=\u001B[39m calc_loss(y_pred, x_reshaped, obst_points)\n\u001B[0;32m---> 40\u001B[0m \u001B[43mloss\u001B[49m\u001B[38;5;241;43m.\u001B[39;49m\u001B[43mbackward\u001B[49m\u001B[43m(\u001B[49m\u001B[43m)\u001B[49m\n\u001B[1;32m     41\u001B[0m optimizer\u001B[38;5;241m.\u001B[39mstep()\n\u001B[1;32m     42\u001B[0m train_loss \u001B[38;5;241m+\u001B[39m\u001B[38;5;241m=\u001B[39m loss\u001B[38;5;241m.\u001B[39mitem()\n",
      "File \u001B[0;32m/opt/anaconda3/envs/UAV_optim/lib/python3.10/site-packages/torch/_tensor.py:521\u001B[0m, in \u001B[0;36mTensor.backward\u001B[0;34m(self, gradient, retain_graph, create_graph, inputs)\u001B[0m\n\u001B[1;32m    511\u001B[0m \u001B[38;5;28;01mif\u001B[39;00m has_torch_function_unary(\u001B[38;5;28mself\u001B[39m):\n\u001B[1;32m    512\u001B[0m     \u001B[38;5;28;01mreturn\u001B[39;00m handle_torch_function(\n\u001B[1;32m    513\u001B[0m         Tensor\u001B[38;5;241m.\u001B[39mbackward,\n\u001B[1;32m    514\u001B[0m         (\u001B[38;5;28mself\u001B[39m,),\n\u001B[0;32m   (...)\u001B[0m\n\u001B[1;32m    519\u001B[0m         inputs\u001B[38;5;241m=\u001B[39minputs,\n\u001B[1;32m    520\u001B[0m     )\n\u001B[0;32m--> 521\u001B[0m \u001B[43mtorch\u001B[49m\u001B[38;5;241;43m.\u001B[39;49m\u001B[43mautograd\u001B[49m\u001B[38;5;241;43m.\u001B[39;49m\u001B[43mbackward\u001B[49m\u001B[43m(\u001B[49m\n\u001B[1;32m    522\u001B[0m \u001B[43m    \u001B[49m\u001B[38;5;28;43mself\u001B[39;49m\u001B[43m,\u001B[49m\u001B[43m \u001B[49m\u001B[43mgradient\u001B[49m\u001B[43m,\u001B[49m\u001B[43m \u001B[49m\u001B[43mretain_graph\u001B[49m\u001B[43m,\u001B[49m\u001B[43m \u001B[49m\u001B[43mcreate_graph\u001B[49m\u001B[43m,\u001B[49m\u001B[43m \u001B[49m\u001B[43minputs\u001B[49m\u001B[38;5;241;43m=\u001B[39;49m\u001B[43minputs\u001B[49m\n\u001B[1;32m    523\u001B[0m \u001B[43m\u001B[49m\u001B[43m)\u001B[49m\n",
      "File \u001B[0;32m/opt/anaconda3/envs/UAV_optim/lib/python3.10/site-packages/torch/autograd/__init__.py:289\u001B[0m, in \u001B[0;36mbackward\u001B[0;34m(tensors, grad_tensors, retain_graph, create_graph, grad_variables, inputs)\u001B[0m\n\u001B[1;32m    284\u001B[0m     retain_graph \u001B[38;5;241m=\u001B[39m create_graph\n\u001B[1;32m    286\u001B[0m \u001B[38;5;66;03m# The reason we repeat the same comment below is that\u001B[39;00m\n\u001B[1;32m    287\u001B[0m \u001B[38;5;66;03m# some Python versions print out the first line of a multi-line function\u001B[39;00m\n\u001B[1;32m    288\u001B[0m \u001B[38;5;66;03m# calls in the traceback and some print out the last line\u001B[39;00m\n\u001B[0;32m--> 289\u001B[0m \u001B[43m_engine_run_backward\u001B[49m\u001B[43m(\u001B[49m\n\u001B[1;32m    290\u001B[0m \u001B[43m    \u001B[49m\u001B[43mtensors\u001B[49m\u001B[43m,\u001B[49m\n\u001B[1;32m    291\u001B[0m \u001B[43m    \u001B[49m\u001B[43mgrad_tensors_\u001B[49m\u001B[43m,\u001B[49m\n\u001B[1;32m    292\u001B[0m \u001B[43m    \u001B[49m\u001B[43mretain_graph\u001B[49m\u001B[43m,\u001B[49m\n\u001B[1;32m    293\u001B[0m \u001B[43m    \u001B[49m\u001B[43mcreate_graph\u001B[49m\u001B[43m,\u001B[49m\n\u001B[1;32m    294\u001B[0m \u001B[43m    \u001B[49m\u001B[43minputs\u001B[49m\u001B[43m,\u001B[49m\n\u001B[1;32m    295\u001B[0m \u001B[43m    \u001B[49m\u001B[43mallow_unreachable\u001B[49m\u001B[38;5;241;43m=\u001B[39;49m\u001B[38;5;28;43;01mTrue\u001B[39;49;00m\u001B[43m,\u001B[49m\n\u001B[1;32m    296\u001B[0m \u001B[43m    \u001B[49m\u001B[43maccumulate_grad\u001B[49m\u001B[38;5;241;43m=\u001B[39;49m\u001B[38;5;28;43;01mTrue\u001B[39;49;00m\u001B[43m,\u001B[49m\n\u001B[1;32m    297\u001B[0m \u001B[43m\u001B[49m\u001B[43m)\u001B[49m\n",
      "File \u001B[0;32m/opt/anaconda3/envs/UAV_optim/lib/python3.10/site-packages/torch/autograd/graph.py:769\u001B[0m, in \u001B[0;36m_engine_run_backward\u001B[0;34m(t_outputs, *args, **kwargs)\u001B[0m\n\u001B[1;32m    767\u001B[0m     unregister_hooks \u001B[38;5;241m=\u001B[39m _register_logging_hooks_on_whole_graph(t_outputs)\n\u001B[1;32m    768\u001B[0m \u001B[38;5;28;01mtry\u001B[39;00m:\n\u001B[0;32m--> 769\u001B[0m     \u001B[38;5;28;01mreturn\u001B[39;00m \u001B[43mVariable\u001B[49m\u001B[38;5;241;43m.\u001B[39;49m\u001B[43m_execution_engine\u001B[49m\u001B[38;5;241;43m.\u001B[39;49m\u001B[43mrun_backward\u001B[49m\u001B[43m(\u001B[49m\u001B[43m  \u001B[49m\u001B[38;5;66;43;03m# Calls into the C++ engine to run the backward pass\u001B[39;49;00m\n\u001B[1;32m    770\u001B[0m \u001B[43m        \u001B[49m\u001B[43mt_outputs\u001B[49m\u001B[43m,\u001B[49m\u001B[43m \u001B[49m\u001B[38;5;241;43m*\u001B[39;49m\u001B[43margs\u001B[49m\u001B[43m,\u001B[49m\u001B[43m \u001B[49m\u001B[38;5;241;43m*\u001B[39;49m\u001B[38;5;241;43m*\u001B[39;49m\u001B[43mkwargs\u001B[49m\n\u001B[1;32m    771\u001B[0m \u001B[43m    \u001B[49m\u001B[43m)\u001B[49m  \u001B[38;5;66;03m# Calls into the C++ engine to run the backward pass\u001B[39;00m\n\u001B[1;32m    772\u001B[0m \u001B[38;5;28;01mfinally\u001B[39;00m:\n\u001B[1;32m    773\u001B[0m     \u001B[38;5;28;01mif\u001B[39;00m attach_logging_hooks:\n",
      "\u001B[0;31mKeyboardInterrupt\u001B[0m: "
     ]
    }
   ],
   "execution_count": 6
  },
  {
   "metadata": {
    "ExecuteTime": {
     "end_time": "2025-02-17T14:09:43.038974Z",
     "start_time": "2025-02-17T13:28:46.146171Z"
    }
   },
   "cell_type": "code",
   "source": "",
   "id": "c54bc9f5396ae05e",
   "outputs": [],
   "execution_count": null
  }
 ],
 "metadata": {
  "kernelspec": {
   "display_name": "Python 3",
   "language": "python",
   "name": "python3"
  },
  "language_info": {
   "codemirror_mode": {
    "name": "ipython",
    "version": 2
   },
   "file_extension": ".py",
   "mimetype": "text/x-python",
   "name": "python",
   "nbconvert_exporter": "python",
   "pygments_lexer": "ipython2",
   "version": "2.7.6"
  }
 },
 "nbformat": 4,
 "nbformat_minor": 5
}
